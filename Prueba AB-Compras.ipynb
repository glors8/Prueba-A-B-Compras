{
 "cells": [
  {
   "cell_type": "markdown",
   "metadata": {},
   "source": [
    "----"
   ]
  },
  {
   "cell_type": "markdown",
   "metadata": {},
   "source": [
    "# Sprint 10 - Proyecto. Toma de decisiones de negocio. Test A/B"
   ]
  },
  {
   "cell_type": "markdown",
   "metadata": {},
   "source": [
    "**Descripción del proyecto**\n",
    "\n",
    "Contexto.\n",
    "Eres analista en una gran tienda online. Junto con el departamento de marketing has recopilado una lista de hipótesis que pueden ayudar a aumentar los ingresos.\n",
    "\n",
    "Tienes que priorizar estas hipótesis, lanzar un test A/B y analizar los resultados.\n",
    "\n",
    "**Descripción de los datos**\n",
    "\n",
    "Datos utilizados en la primera parte del proyecto\n",
    "\n",
    "/datasets/hypotheses_us.csv\n",
    "\n",
    "- Hypotheses: breves descripciones de las hipótesis.\n",
    "- Reach: alcance del usuario, en una escala del uno a diez.\n",
    "- Impact: impacto en los usuarios, en una escala del uno al diez.\n",
    "- Confidence: confianza en la hipótesis, en una escala del uno al diez.\n",
    "- Effort: los recursos necesarios para probar una hipótesis, en una escala del uno al diez. Cuanto mayor sea el valor Effort, más recursos requiere la prueba.\n",
    "\n",
    "\n",
    "Datos utilizados en la segunda parte del proyecto\n",
    "\n",
    "/datasets/orders_us.csv\n",
    "\n",
    "- transactionId: identificador de pedido.\n",
    "- visitorId: identificador del usuario que realizó el pedido.\n",
    "- date: fecha del pedido.\n",
    "- revenue: ingresos del pedido.\n",
    "- group: el grupo del test A/B al que pertenece el usuario.\n",
    "\n",
    "/datasets/visits_us.csv\n",
    "\n",
    "- date: la fecha.\n",
    "- group: grupo de la prueba A/B.\n",
    "- visits: el número de visitas en la fecha especificada en el grupo de pruebas A/B especificado.\n"
   ]
  },
  {
   "cell_type": "markdown",
   "metadata": {},
   "source": [
    "# 1. Limpieza de datos"
   ]
  },
  {
   "cell_type": "code",
   "execution_count": 1,
   "metadata": {
    "trusted": true
   },
   "outputs": [],
   "source": [
    "import pandas as pd\n",
    "import numpy as np\n",
    "import matplotlib.pyplot as plt\n",
    "import scipy.stats as stats\n",
    "import statsmodels.api as sm"
   ]
  },
  {
   "cell_type": "code",
   "execution_count": 2,
   "metadata": {
    "trusted": true
   },
   "outputs": [],
   "source": [
    "df_hypotheses = pd.read_csv(\"/datasets/hypotheses_us.csv\", sep=\";\")\n",
    "df_orders = pd.read_csv(\"/datasets/orders_us.csv\")\n",
    "df_visits = pd.read_csv(\"/datasets/visits_us.csv\")"
   ]
  },
  {
   "cell_type": "code",
   "execution_count": 3,
   "metadata": {
    "trusted": true
   },
   "outputs": [
    {
     "name": "stdout",
     "output_type": "stream",
     "text": [
      "<class 'pandas.core.frame.DataFrame'>\n",
      "RangeIndex: 9 entries, 0 to 8\n",
      "Data columns (total 5 columns):\n",
      " #   Column      Non-Null Count  Dtype \n",
      "---  ------      --------------  ----- \n",
      " 0   Hypothesis  9 non-null      object\n",
      " 1   Reach       9 non-null      int64 \n",
      " 2   Impact      9 non-null      int64 \n",
      " 3   Confidence  9 non-null      int64 \n",
      " 4   Effort      9 non-null      int64 \n",
      "dtypes: int64(4), object(1)\n",
      "memory usage: 488.0+ bytes\n"
     ]
    }
   ],
   "source": [
    "df_hypotheses.info()"
   ]
  },
  {
   "cell_type": "code",
   "execution_count": 4,
   "metadata": {
    "trusted": true
   },
   "outputs": [
    {
     "data": {
      "text/html": [
       "<div>\n",
       "<style scoped>\n",
       "    .dataframe tbody tr th:only-of-type {\n",
       "        vertical-align: middle;\n",
       "    }\n",
       "\n",
       "    .dataframe tbody tr th {\n",
       "        vertical-align: top;\n",
       "    }\n",
       "\n",
       "    .dataframe thead th {\n",
       "        text-align: right;\n",
       "    }\n",
       "</style>\n",
       "<table border=\"1\" class=\"dataframe\">\n",
       "  <thead>\n",
       "    <tr style=\"text-align: right;\">\n",
       "      <th></th>\n",
       "      <th>Hypothesis</th>\n",
       "      <th>Reach</th>\n",
       "      <th>Impact</th>\n",
       "      <th>Confidence</th>\n",
       "      <th>Effort</th>\n",
       "    </tr>\n",
       "  </thead>\n",
       "  <tbody>\n",
       "    <tr>\n",
       "      <th>0</th>\n",
       "      <td>Add two new channels for attracting traffic. T...</td>\n",
       "      <td>3</td>\n",
       "      <td>10</td>\n",
       "      <td>8</td>\n",
       "      <td>6</td>\n",
       "    </tr>\n",
       "    <tr>\n",
       "      <th>1</th>\n",
       "      <td>Launch your own delivery service. This will sh...</td>\n",
       "      <td>2</td>\n",
       "      <td>5</td>\n",
       "      <td>4</td>\n",
       "      <td>10</td>\n",
       "    </tr>\n",
       "    <tr>\n",
       "      <th>2</th>\n",
       "      <td>Add product recommendation blocks to the store...</td>\n",
       "      <td>8</td>\n",
       "      <td>3</td>\n",
       "      <td>7</td>\n",
       "      <td>3</td>\n",
       "    </tr>\n",
       "    <tr>\n",
       "      <th>3</th>\n",
       "      <td>Change the category structure. This will incre...</td>\n",
       "      <td>8</td>\n",
       "      <td>3</td>\n",
       "      <td>3</td>\n",
       "      <td>8</td>\n",
       "    </tr>\n",
       "    <tr>\n",
       "      <th>4</th>\n",
       "      <td>Change the background color on the main page. ...</td>\n",
       "      <td>3</td>\n",
       "      <td>1</td>\n",
       "      <td>1</td>\n",
       "      <td>1</td>\n",
       "    </tr>\n",
       "    <tr>\n",
       "      <th>5</th>\n",
       "      <td>Add a customer review page. This will increase...</td>\n",
       "      <td>3</td>\n",
       "      <td>2</td>\n",
       "      <td>2</td>\n",
       "      <td>3</td>\n",
       "    </tr>\n",
       "    <tr>\n",
       "      <th>6</th>\n",
       "      <td>Show banners with current offers and sales on ...</td>\n",
       "      <td>5</td>\n",
       "      <td>3</td>\n",
       "      <td>8</td>\n",
       "      <td>3</td>\n",
       "    </tr>\n",
       "    <tr>\n",
       "      <th>7</th>\n",
       "      <td>Add a subscription form to all the main pages....</td>\n",
       "      <td>10</td>\n",
       "      <td>7</td>\n",
       "      <td>8</td>\n",
       "      <td>5</td>\n",
       "    </tr>\n",
       "    <tr>\n",
       "      <th>8</th>\n",
       "      <td>Launch a promotion that gives users discounts ...</td>\n",
       "      <td>1</td>\n",
       "      <td>9</td>\n",
       "      <td>9</td>\n",
       "      <td>5</td>\n",
       "    </tr>\n",
       "  </tbody>\n",
       "</table>\n",
       "</div>"
      ],
      "text/plain": [
       "                                          Hypothesis  Reach  Impact  \\\n",
       "0  Add two new channels for attracting traffic. T...      3      10   \n",
       "1  Launch your own delivery service. This will sh...      2       5   \n",
       "2  Add product recommendation blocks to the store...      8       3   \n",
       "3  Change the category structure. This will incre...      8       3   \n",
       "4  Change the background color on the main page. ...      3       1   \n",
       "5  Add a customer review page. This will increase...      3       2   \n",
       "6  Show banners with current offers and sales on ...      5       3   \n",
       "7  Add a subscription form to all the main pages....     10       7   \n",
       "8  Launch a promotion that gives users discounts ...      1       9   \n",
       "\n",
       "   Confidence  Effort  \n",
       "0           8       6  \n",
       "1           4      10  \n",
       "2           7       3  \n",
       "3           3       8  \n",
       "4           1       1  \n",
       "5           2       3  \n",
       "6           8       3  \n",
       "7           8       5  \n",
       "8           9       5  "
      ]
     },
     "execution_count": 4,
     "metadata": {},
     "output_type": "execute_result"
    }
   ],
   "source": [
    "df_hypotheses"
   ]
  },
  {
   "cell_type": "code",
   "execution_count": 5,
   "metadata": {
    "trusted": true
   },
   "outputs": [],
   "source": [
    "df_hypotheses.columns = df_hypotheses.columns.str.lower()"
   ]
  },
  {
   "cell_type": "code",
   "execution_count": 6,
   "metadata": {
    "trusted": true
   },
   "outputs": [
    {
     "data": {
      "text/html": [
       "<div>\n",
       "<style scoped>\n",
       "    .dataframe tbody tr th:only-of-type {\n",
       "        vertical-align: middle;\n",
       "    }\n",
       "\n",
       "    .dataframe tbody tr th {\n",
       "        vertical-align: top;\n",
       "    }\n",
       "\n",
       "    .dataframe thead th {\n",
       "        text-align: right;\n",
       "    }\n",
       "</style>\n",
       "<table border=\"1\" class=\"dataframe\">\n",
       "  <thead>\n",
       "    <tr style=\"text-align: right;\">\n",
       "      <th></th>\n",
       "      <th>hypothesis</th>\n",
       "      <th>reach</th>\n",
       "      <th>impact</th>\n",
       "      <th>confidence</th>\n",
       "      <th>effort</th>\n",
       "    </tr>\n",
       "  </thead>\n",
       "  <tbody>\n",
       "    <tr>\n",
       "      <th>0</th>\n",
       "      <td>Add two new channels for attracting traffic. T...</td>\n",
       "      <td>3</td>\n",
       "      <td>10</td>\n",
       "      <td>8</td>\n",
       "      <td>6</td>\n",
       "    </tr>\n",
       "    <tr>\n",
       "      <th>1</th>\n",
       "      <td>Launch your own delivery service. This will sh...</td>\n",
       "      <td>2</td>\n",
       "      <td>5</td>\n",
       "      <td>4</td>\n",
       "      <td>10</td>\n",
       "    </tr>\n",
       "    <tr>\n",
       "      <th>2</th>\n",
       "      <td>Add product recommendation blocks to the store...</td>\n",
       "      <td>8</td>\n",
       "      <td>3</td>\n",
       "      <td>7</td>\n",
       "      <td>3</td>\n",
       "    </tr>\n",
       "    <tr>\n",
       "      <th>3</th>\n",
       "      <td>Change the category structure. This will incre...</td>\n",
       "      <td>8</td>\n",
       "      <td>3</td>\n",
       "      <td>3</td>\n",
       "      <td>8</td>\n",
       "    </tr>\n",
       "    <tr>\n",
       "      <th>4</th>\n",
       "      <td>Change the background color on the main page. ...</td>\n",
       "      <td>3</td>\n",
       "      <td>1</td>\n",
       "      <td>1</td>\n",
       "      <td>1</td>\n",
       "    </tr>\n",
       "    <tr>\n",
       "      <th>5</th>\n",
       "      <td>Add a customer review page. This will increase...</td>\n",
       "      <td>3</td>\n",
       "      <td>2</td>\n",
       "      <td>2</td>\n",
       "      <td>3</td>\n",
       "    </tr>\n",
       "    <tr>\n",
       "      <th>6</th>\n",
       "      <td>Show banners with current offers and sales on ...</td>\n",
       "      <td>5</td>\n",
       "      <td>3</td>\n",
       "      <td>8</td>\n",
       "      <td>3</td>\n",
       "    </tr>\n",
       "    <tr>\n",
       "      <th>7</th>\n",
       "      <td>Add a subscription form to all the main pages....</td>\n",
       "      <td>10</td>\n",
       "      <td>7</td>\n",
       "      <td>8</td>\n",
       "      <td>5</td>\n",
       "    </tr>\n",
       "    <tr>\n",
       "      <th>8</th>\n",
       "      <td>Launch a promotion that gives users discounts ...</td>\n",
       "      <td>1</td>\n",
       "      <td>9</td>\n",
       "      <td>9</td>\n",
       "      <td>5</td>\n",
       "    </tr>\n",
       "  </tbody>\n",
       "</table>\n",
       "</div>"
      ],
      "text/plain": [
       "                                          hypothesis  reach  impact  \\\n",
       "0  Add two new channels for attracting traffic. T...      3      10   \n",
       "1  Launch your own delivery service. This will sh...      2       5   \n",
       "2  Add product recommendation blocks to the store...      8       3   \n",
       "3  Change the category structure. This will incre...      8       3   \n",
       "4  Change the background color on the main page. ...      3       1   \n",
       "5  Add a customer review page. This will increase...      3       2   \n",
       "6  Show banners with current offers and sales on ...      5       3   \n",
       "7  Add a subscription form to all the main pages....     10       7   \n",
       "8  Launch a promotion that gives users discounts ...      1       9   \n",
       "\n",
       "   confidence  effort  \n",
       "0           8       6  \n",
       "1           4      10  \n",
       "2           7       3  \n",
       "3           3       8  \n",
       "4           1       1  \n",
       "5           2       3  \n",
       "6           8       3  \n",
       "7           8       5  \n",
       "8           9       5  "
      ]
     },
     "execution_count": 6,
     "metadata": {},
     "output_type": "execute_result"
    }
   ],
   "source": [
    "df_hypotheses"
   ]
  },
  {
   "cell_type": "code",
   "execution_count": 7,
   "metadata": {
    "trusted": true
   },
   "outputs": [
    {
     "name": "stdout",
     "output_type": "stream",
     "text": [
      "<class 'pandas.core.frame.DataFrame'>\n",
      "RangeIndex: 1197 entries, 0 to 1196\n",
      "Data columns (total 5 columns):\n",
      " #   Column         Non-Null Count  Dtype  \n",
      "---  ------         --------------  -----  \n",
      " 0   transactionId  1197 non-null   int64  \n",
      " 1   visitorId      1197 non-null   int64  \n",
      " 2   date           1197 non-null   object \n",
      " 3   revenue        1197 non-null   float64\n",
      " 4   group          1197 non-null   object \n",
      "dtypes: float64(1), int64(2), object(2)\n",
      "memory usage: 46.9+ KB\n"
     ]
    }
   ],
   "source": [
    "df_orders.info()"
   ]
  },
  {
   "cell_type": "code",
   "execution_count": 8,
   "metadata": {
    "trusted": true
   },
   "outputs": [
    {
     "data": {
      "text/html": [
       "<div>\n",
       "<style scoped>\n",
       "    .dataframe tbody tr th:only-of-type {\n",
       "        vertical-align: middle;\n",
       "    }\n",
       "\n",
       "    .dataframe tbody tr th {\n",
       "        vertical-align: top;\n",
       "    }\n",
       "\n",
       "    .dataframe thead th {\n",
       "        text-align: right;\n",
       "    }\n",
       "</style>\n",
       "<table border=\"1\" class=\"dataframe\">\n",
       "  <thead>\n",
       "    <tr style=\"text-align: right;\">\n",
       "      <th></th>\n",
       "      <th>transactionId</th>\n",
       "      <th>visitorId</th>\n",
       "      <th>date</th>\n",
       "      <th>revenue</th>\n",
       "      <th>group</th>\n",
       "    </tr>\n",
       "  </thead>\n",
       "  <tbody>\n",
       "    <tr>\n",
       "      <th>0</th>\n",
       "      <td>3667963787</td>\n",
       "      <td>3312258926</td>\n",
       "      <td>2019-08-15</td>\n",
       "      <td>30.4</td>\n",
       "      <td>B</td>\n",
       "    </tr>\n",
       "    <tr>\n",
       "      <th>1</th>\n",
       "      <td>2804400009</td>\n",
       "      <td>3642806036</td>\n",
       "      <td>2019-08-15</td>\n",
       "      <td>15.2</td>\n",
       "      <td>B</td>\n",
       "    </tr>\n",
       "    <tr>\n",
       "      <th>2</th>\n",
       "      <td>2961555356</td>\n",
       "      <td>4069496402</td>\n",
       "      <td>2019-08-15</td>\n",
       "      <td>10.2</td>\n",
       "      <td>A</td>\n",
       "    </tr>\n",
       "    <tr>\n",
       "      <th>3</th>\n",
       "      <td>3797467345</td>\n",
       "      <td>1196621759</td>\n",
       "      <td>2019-08-15</td>\n",
       "      <td>155.1</td>\n",
       "      <td>B</td>\n",
       "    </tr>\n",
       "    <tr>\n",
       "      <th>4</th>\n",
       "      <td>2282983706</td>\n",
       "      <td>2322279887</td>\n",
       "      <td>2019-08-15</td>\n",
       "      <td>40.5</td>\n",
       "      <td>B</td>\n",
       "    </tr>\n",
       "    <tr>\n",
       "      <th>...</th>\n",
       "      <td>...</td>\n",
       "      <td>...</td>\n",
       "      <td>...</td>\n",
       "      <td>...</td>\n",
       "      <td>...</td>\n",
       "    </tr>\n",
       "    <tr>\n",
       "      <th>1192</th>\n",
       "      <td>2662137336</td>\n",
       "      <td>3733762160</td>\n",
       "      <td>2019-08-14</td>\n",
       "      <td>100.8</td>\n",
       "      <td>B</td>\n",
       "    </tr>\n",
       "    <tr>\n",
       "      <th>1193</th>\n",
       "      <td>2203539145</td>\n",
       "      <td>370388673</td>\n",
       "      <td>2019-08-14</td>\n",
       "      <td>50.1</td>\n",
       "      <td>A</td>\n",
       "    </tr>\n",
       "    <tr>\n",
       "      <th>1194</th>\n",
       "      <td>1807773912</td>\n",
       "      <td>573423106</td>\n",
       "      <td>2019-08-14</td>\n",
       "      <td>165.3</td>\n",
       "      <td>A</td>\n",
       "    </tr>\n",
       "    <tr>\n",
       "      <th>1195</th>\n",
       "      <td>1947021204</td>\n",
       "      <td>1614305549</td>\n",
       "      <td>2019-08-14</td>\n",
       "      <td>5.5</td>\n",
       "      <td>A</td>\n",
       "    </tr>\n",
       "    <tr>\n",
       "      <th>1196</th>\n",
       "      <td>3936777065</td>\n",
       "      <td>2108080724</td>\n",
       "      <td>2019-08-15</td>\n",
       "      <td>3120.1</td>\n",
       "      <td>B</td>\n",
       "    </tr>\n",
       "  </tbody>\n",
       "</table>\n",
       "<p>1197 rows × 5 columns</p>\n",
       "</div>"
      ],
      "text/plain": [
       "      transactionId   visitorId        date  revenue group\n",
       "0        3667963787  3312258926  2019-08-15     30.4     B\n",
       "1        2804400009  3642806036  2019-08-15     15.2     B\n",
       "2        2961555356  4069496402  2019-08-15     10.2     A\n",
       "3        3797467345  1196621759  2019-08-15    155.1     B\n",
       "4        2282983706  2322279887  2019-08-15     40.5     B\n",
       "...             ...         ...         ...      ...   ...\n",
       "1192     2662137336  3733762160  2019-08-14    100.8     B\n",
       "1193     2203539145   370388673  2019-08-14     50.1     A\n",
       "1194     1807773912   573423106  2019-08-14    165.3     A\n",
       "1195     1947021204  1614305549  2019-08-14      5.5     A\n",
       "1196     3936777065  2108080724  2019-08-15   3120.1     B\n",
       "\n",
       "[1197 rows x 5 columns]"
      ]
     },
     "execution_count": 8,
     "metadata": {},
     "output_type": "execute_result"
    }
   ],
   "source": [
    "df_orders"
   ]
  },
  {
   "cell_type": "code",
   "execution_count": 9,
   "metadata": {
    "trusted": true
   },
   "outputs": [],
   "source": [
    "df_orders[\"date\"] = pd.to_datetime(df_orders[\"date\"])"
   ]
  },
  {
   "cell_type": "code",
   "execution_count": 10,
   "metadata": {
    "trusted": true
   },
   "outputs": [],
   "source": [
    "df_orders = df_orders.rename(columns={\"transactionId\":\"transaction_id\",\"visitorId\": \"visitor_id\" })"
   ]
  },
  {
   "cell_type": "code",
   "execution_count": 11,
   "metadata": {
    "trusted": true
   },
   "outputs": [
    {
     "data": {
      "text/html": [
       "<div>\n",
       "<style scoped>\n",
       "    .dataframe tbody tr th:only-of-type {\n",
       "        vertical-align: middle;\n",
       "    }\n",
       "\n",
       "    .dataframe tbody tr th {\n",
       "        vertical-align: top;\n",
       "    }\n",
       "\n",
       "    .dataframe thead th {\n",
       "        text-align: right;\n",
       "    }\n",
       "</style>\n",
       "<table border=\"1\" class=\"dataframe\">\n",
       "  <thead>\n",
       "    <tr style=\"text-align: right;\">\n",
       "      <th></th>\n",
       "      <th>transaction_id</th>\n",
       "      <th>visitor_id</th>\n",
       "      <th>date</th>\n",
       "      <th>revenue</th>\n",
       "      <th>group</th>\n",
       "    </tr>\n",
       "  </thead>\n",
       "  <tbody>\n",
       "    <tr>\n",
       "      <th>0</th>\n",
       "      <td>3667963787</td>\n",
       "      <td>3312258926</td>\n",
       "      <td>2019-08-15</td>\n",
       "      <td>30.4</td>\n",
       "      <td>B</td>\n",
       "    </tr>\n",
       "    <tr>\n",
       "      <th>1</th>\n",
       "      <td>2804400009</td>\n",
       "      <td>3642806036</td>\n",
       "      <td>2019-08-15</td>\n",
       "      <td>15.2</td>\n",
       "      <td>B</td>\n",
       "    </tr>\n",
       "    <tr>\n",
       "      <th>2</th>\n",
       "      <td>2961555356</td>\n",
       "      <td>4069496402</td>\n",
       "      <td>2019-08-15</td>\n",
       "      <td>10.2</td>\n",
       "      <td>A</td>\n",
       "    </tr>\n",
       "    <tr>\n",
       "      <th>3</th>\n",
       "      <td>3797467345</td>\n",
       "      <td>1196621759</td>\n",
       "      <td>2019-08-15</td>\n",
       "      <td>155.1</td>\n",
       "      <td>B</td>\n",
       "    </tr>\n",
       "    <tr>\n",
       "      <th>4</th>\n",
       "      <td>2282983706</td>\n",
       "      <td>2322279887</td>\n",
       "      <td>2019-08-15</td>\n",
       "      <td>40.5</td>\n",
       "      <td>B</td>\n",
       "    </tr>\n",
       "    <tr>\n",
       "      <th>...</th>\n",
       "      <td>...</td>\n",
       "      <td>...</td>\n",
       "      <td>...</td>\n",
       "      <td>...</td>\n",
       "      <td>...</td>\n",
       "    </tr>\n",
       "    <tr>\n",
       "      <th>1192</th>\n",
       "      <td>2662137336</td>\n",
       "      <td>3733762160</td>\n",
       "      <td>2019-08-14</td>\n",
       "      <td>100.8</td>\n",
       "      <td>B</td>\n",
       "    </tr>\n",
       "    <tr>\n",
       "      <th>1193</th>\n",
       "      <td>2203539145</td>\n",
       "      <td>370388673</td>\n",
       "      <td>2019-08-14</td>\n",
       "      <td>50.1</td>\n",
       "      <td>A</td>\n",
       "    </tr>\n",
       "    <tr>\n",
       "      <th>1194</th>\n",
       "      <td>1807773912</td>\n",
       "      <td>573423106</td>\n",
       "      <td>2019-08-14</td>\n",
       "      <td>165.3</td>\n",
       "      <td>A</td>\n",
       "    </tr>\n",
       "    <tr>\n",
       "      <th>1195</th>\n",
       "      <td>1947021204</td>\n",
       "      <td>1614305549</td>\n",
       "      <td>2019-08-14</td>\n",
       "      <td>5.5</td>\n",
       "      <td>A</td>\n",
       "    </tr>\n",
       "    <tr>\n",
       "      <th>1196</th>\n",
       "      <td>3936777065</td>\n",
       "      <td>2108080724</td>\n",
       "      <td>2019-08-15</td>\n",
       "      <td>3120.1</td>\n",
       "      <td>B</td>\n",
       "    </tr>\n",
       "  </tbody>\n",
       "</table>\n",
       "<p>1197 rows × 5 columns</p>\n",
       "</div>"
      ],
      "text/plain": [
       "      transaction_id  visitor_id       date  revenue group\n",
       "0         3667963787  3312258926 2019-08-15     30.4     B\n",
       "1         2804400009  3642806036 2019-08-15     15.2     B\n",
       "2         2961555356  4069496402 2019-08-15     10.2     A\n",
       "3         3797467345  1196621759 2019-08-15    155.1     B\n",
       "4         2282983706  2322279887 2019-08-15     40.5     B\n",
       "...              ...         ...        ...      ...   ...\n",
       "1192      2662137336  3733762160 2019-08-14    100.8     B\n",
       "1193      2203539145   370388673 2019-08-14     50.1     A\n",
       "1194      1807773912   573423106 2019-08-14    165.3     A\n",
       "1195      1947021204  1614305549 2019-08-14      5.5     A\n",
       "1196      3936777065  2108080724 2019-08-15   3120.1     B\n",
       "\n",
       "[1197 rows x 5 columns]"
      ]
     },
     "execution_count": 11,
     "metadata": {},
     "output_type": "execute_result"
    }
   ],
   "source": [
    "df_orders"
   ]
  },
  {
   "cell_type": "code",
   "execution_count": 12,
   "metadata": {
    "trusted": true
   },
   "outputs": [
    {
     "name": "stdout",
     "output_type": "stream",
     "text": [
      "<class 'pandas.core.frame.DataFrame'>\n",
      "RangeIndex: 1197 entries, 0 to 1196\n",
      "Data columns (total 5 columns):\n",
      " #   Column          Non-Null Count  Dtype         \n",
      "---  ------          --------------  -----         \n",
      " 0   transaction_id  1197 non-null   int64         \n",
      " 1   visitor_id      1197 non-null   int64         \n",
      " 2   date            1197 non-null   datetime64[ns]\n",
      " 3   revenue         1197 non-null   float64       \n",
      " 4   group           1197 non-null   object        \n",
      "dtypes: datetime64[ns](1), float64(1), int64(2), object(1)\n",
      "memory usage: 46.9+ KB\n"
     ]
    }
   ],
   "source": [
    "df_orders.info()"
   ]
  },
  {
   "cell_type": "code",
   "execution_count": 13,
   "metadata": {
    "trusted": true
   },
   "outputs": [
    {
     "name": "stdout",
     "output_type": "stream",
     "text": [
      "<class 'pandas.core.frame.DataFrame'>\n",
      "RangeIndex: 62 entries, 0 to 61\n",
      "Data columns (total 3 columns):\n",
      " #   Column  Non-Null Count  Dtype \n",
      "---  ------  --------------  ----- \n",
      " 0   date    62 non-null     object\n",
      " 1   group   62 non-null     object\n",
      " 2   visits  62 non-null     int64 \n",
      "dtypes: int64(1), object(2)\n",
      "memory usage: 1.6+ KB\n"
     ]
    }
   ],
   "source": [
    "df_visits.info()"
   ]
  },
  {
   "cell_type": "code",
   "execution_count": 14,
   "metadata": {
    "trusted": true
   },
   "outputs": [
    {
     "data": {
      "text/html": [
       "<div>\n",
       "<style scoped>\n",
       "    .dataframe tbody tr th:only-of-type {\n",
       "        vertical-align: middle;\n",
       "    }\n",
       "\n",
       "    .dataframe tbody tr th {\n",
       "        vertical-align: top;\n",
       "    }\n",
       "\n",
       "    .dataframe thead th {\n",
       "        text-align: right;\n",
       "    }\n",
       "</style>\n",
       "<table border=\"1\" class=\"dataframe\">\n",
       "  <thead>\n",
       "    <tr style=\"text-align: right;\">\n",
       "      <th></th>\n",
       "      <th>date</th>\n",
       "      <th>group</th>\n",
       "      <th>visits</th>\n",
       "    </tr>\n",
       "  </thead>\n",
       "  <tbody>\n",
       "    <tr>\n",
       "      <th>0</th>\n",
       "      <td>2019-08-01</td>\n",
       "      <td>A</td>\n",
       "      <td>719</td>\n",
       "    </tr>\n",
       "    <tr>\n",
       "      <th>1</th>\n",
       "      <td>2019-08-02</td>\n",
       "      <td>A</td>\n",
       "      <td>619</td>\n",
       "    </tr>\n",
       "    <tr>\n",
       "      <th>2</th>\n",
       "      <td>2019-08-03</td>\n",
       "      <td>A</td>\n",
       "      <td>507</td>\n",
       "    </tr>\n",
       "    <tr>\n",
       "      <th>3</th>\n",
       "      <td>2019-08-04</td>\n",
       "      <td>A</td>\n",
       "      <td>717</td>\n",
       "    </tr>\n",
       "    <tr>\n",
       "      <th>4</th>\n",
       "      <td>2019-08-05</td>\n",
       "      <td>A</td>\n",
       "      <td>756</td>\n",
       "    </tr>\n",
       "    <tr>\n",
       "      <th>...</th>\n",
       "      <td>...</td>\n",
       "      <td>...</td>\n",
       "      <td>...</td>\n",
       "    </tr>\n",
       "    <tr>\n",
       "      <th>57</th>\n",
       "      <td>2019-08-27</td>\n",
       "      <td>B</td>\n",
       "      <td>720</td>\n",
       "    </tr>\n",
       "    <tr>\n",
       "      <th>58</th>\n",
       "      <td>2019-08-28</td>\n",
       "      <td>B</td>\n",
       "      <td>654</td>\n",
       "    </tr>\n",
       "    <tr>\n",
       "      <th>59</th>\n",
       "      <td>2019-08-29</td>\n",
       "      <td>B</td>\n",
       "      <td>531</td>\n",
       "    </tr>\n",
       "    <tr>\n",
       "      <th>60</th>\n",
       "      <td>2019-08-30</td>\n",
       "      <td>B</td>\n",
       "      <td>490</td>\n",
       "    </tr>\n",
       "    <tr>\n",
       "      <th>61</th>\n",
       "      <td>2019-08-31</td>\n",
       "      <td>B</td>\n",
       "      <td>718</td>\n",
       "    </tr>\n",
       "  </tbody>\n",
       "</table>\n",
       "<p>62 rows × 3 columns</p>\n",
       "</div>"
      ],
      "text/plain": [
       "          date group  visits\n",
       "0   2019-08-01     A     719\n",
       "1   2019-08-02     A     619\n",
       "2   2019-08-03     A     507\n",
       "3   2019-08-04     A     717\n",
       "4   2019-08-05     A     756\n",
       "..         ...   ...     ...\n",
       "57  2019-08-27     B     720\n",
       "58  2019-08-28     B     654\n",
       "59  2019-08-29     B     531\n",
       "60  2019-08-30     B     490\n",
       "61  2019-08-31     B     718\n",
       "\n",
       "[62 rows x 3 columns]"
      ]
     },
     "execution_count": 14,
     "metadata": {},
     "output_type": "execute_result"
    }
   ],
   "source": [
    "df_visits"
   ]
  },
  {
   "cell_type": "code",
   "execution_count": 15,
   "metadata": {
    "trusted": true
   },
   "outputs": [],
   "source": [
    "df_visits[\"date\"] = pd.to_datetime(df_visits[\"date\"])"
   ]
  },
  {
   "cell_type": "code",
   "execution_count": 16,
   "metadata": {
    "trusted": true
   },
   "outputs": [
    {
     "name": "stdout",
     "output_type": "stream",
     "text": [
      "<class 'pandas.core.frame.DataFrame'>\n",
      "RangeIndex: 62 entries, 0 to 61\n",
      "Data columns (total 3 columns):\n",
      " #   Column  Non-Null Count  Dtype         \n",
      "---  ------  --------------  -----         \n",
      " 0   date    62 non-null     datetime64[ns]\n",
      " 1   group   62 non-null     object        \n",
      " 2   visits  62 non-null     int64         \n",
      "dtypes: datetime64[ns](1), int64(1), object(1)\n",
      "memory usage: 1.6+ KB\n"
     ]
    }
   ],
   "source": [
    "df_visits.info()"
   ]
  },
  {
   "cell_type": "markdown",
   "metadata": {},
   "source": [
    "# Parte 1. Priorizar hipótesis"
   ]
  },
  {
   "cell_type": "markdown",
   "metadata": {},
   "source": [
    "El ejercicio consiste en:\n",
    "\n",
    "- Aplicar el framework ICE para priorizar hipótesis. Ordenarlas en orden descendente de prioridad.\n",
    "- Aplicar el framework RICE para priorizar hipótesis. Ordenarlas en orden descendente de prioridad.\n",
    "- Mostrar cómo cambia la priorización de hipótesis cuando utilizas RICE en lugar de ICE. Proporcionar una explicación de los cambios."
   ]
  },
  {
   "cell_type": "code",
   "execution_count": 17,
   "metadata": {
    "trusted": true
   },
   "outputs": [],
   "source": [
    "df_hypotheses[\"ICE\"] = df_hypotheses[\"impact\"] * df_hypotheses[\"confidence\"] / df_hypotheses[\"effort\"]\n",
    "df_hypotheses[\"RICE\"] = df_hypotheses[\"reach\"] * df_hypotheses[\"impact\"] * df_hypotheses[\"confidence\"] / df_hypotheses[\"effort\"]"
   ]
  },
  {
   "cell_type": "code",
   "execution_count": 18,
   "metadata": {
    "trusted": true
   },
   "outputs": [
    {
     "data": {
      "text/html": [
       "<div>\n",
       "<style scoped>\n",
       "    .dataframe tbody tr th:only-of-type {\n",
       "        vertical-align: middle;\n",
       "    }\n",
       "\n",
       "    .dataframe tbody tr th {\n",
       "        vertical-align: top;\n",
       "    }\n",
       "\n",
       "    .dataframe thead th {\n",
       "        text-align: right;\n",
       "    }\n",
       "</style>\n",
       "<table border=\"1\" class=\"dataframe\">\n",
       "  <thead>\n",
       "    <tr style=\"text-align: right;\">\n",
       "      <th></th>\n",
       "      <th>hypothesis</th>\n",
       "      <th>reach</th>\n",
       "      <th>impact</th>\n",
       "      <th>confidence</th>\n",
       "      <th>effort</th>\n",
       "      <th>ICE</th>\n",
       "      <th>RICE</th>\n",
       "    </tr>\n",
       "  </thead>\n",
       "  <tbody>\n",
       "    <tr>\n",
       "      <th>8</th>\n",
       "      <td>Launch a promotion that gives users discounts ...</td>\n",
       "      <td>1</td>\n",
       "      <td>9</td>\n",
       "      <td>9</td>\n",
       "      <td>5</td>\n",
       "      <td>16.200000</td>\n",
       "      <td>16.2</td>\n",
       "    </tr>\n",
       "    <tr>\n",
       "      <th>0</th>\n",
       "      <td>Add two new channels for attracting traffic. T...</td>\n",
       "      <td>3</td>\n",
       "      <td>10</td>\n",
       "      <td>8</td>\n",
       "      <td>6</td>\n",
       "      <td>13.333333</td>\n",
       "      <td>40.0</td>\n",
       "    </tr>\n",
       "    <tr>\n",
       "      <th>7</th>\n",
       "      <td>Add a subscription form to all the main pages....</td>\n",
       "      <td>10</td>\n",
       "      <td>7</td>\n",
       "      <td>8</td>\n",
       "      <td>5</td>\n",
       "      <td>11.200000</td>\n",
       "      <td>112.0</td>\n",
       "    </tr>\n",
       "    <tr>\n",
       "      <th>6</th>\n",
       "      <td>Show banners with current offers and sales on ...</td>\n",
       "      <td>5</td>\n",
       "      <td>3</td>\n",
       "      <td>8</td>\n",
       "      <td>3</td>\n",
       "      <td>8.000000</td>\n",
       "      <td>40.0</td>\n",
       "    </tr>\n",
       "    <tr>\n",
       "      <th>2</th>\n",
       "      <td>Add product recommendation blocks to the store...</td>\n",
       "      <td>8</td>\n",
       "      <td>3</td>\n",
       "      <td>7</td>\n",
       "      <td>3</td>\n",
       "      <td>7.000000</td>\n",
       "      <td>56.0</td>\n",
       "    </tr>\n",
       "    <tr>\n",
       "      <th>1</th>\n",
       "      <td>Launch your own delivery service. This will sh...</td>\n",
       "      <td>2</td>\n",
       "      <td>5</td>\n",
       "      <td>4</td>\n",
       "      <td>10</td>\n",
       "      <td>2.000000</td>\n",
       "      <td>4.0</td>\n",
       "    </tr>\n",
       "    <tr>\n",
       "      <th>5</th>\n",
       "      <td>Add a customer review page. This will increase...</td>\n",
       "      <td>3</td>\n",
       "      <td>2</td>\n",
       "      <td>2</td>\n",
       "      <td>3</td>\n",
       "      <td>1.333333</td>\n",
       "      <td>4.0</td>\n",
       "    </tr>\n",
       "    <tr>\n",
       "      <th>3</th>\n",
       "      <td>Change the category structure. This will incre...</td>\n",
       "      <td>8</td>\n",
       "      <td>3</td>\n",
       "      <td>3</td>\n",
       "      <td>8</td>\n",
       "      <td>1.125000</td>\n",
       "      <td>9.0</td>\n",
       "    </tr>\n",
       "    <tr>\n",
       "      <th>4</th>\n",
       "      <td>Change the background color on the main page. ...</td>\n",
       "      <td>3</td>\n",
       "      <td>1</td>\n",
       "      <td>1</td>\n",
       "      <td>1</td>\n",
       "      <td>1.000000</td>\n",
       "      <td>3.0</td>\n",
       "    </tr>\n",
       "  </tbody>\n",
       "</table>\n",
       "</div>"
      ],
      "text/plain": [
       "                                          hypothesis  reach  impact  \\\n",
       "8  Launch a promotion that gives users discounts ...      1       9   \n",
       "0  Add two new channels for attracting traffic. T...      3      10   \n",
       "7  Add a subscription form to all the main pages....     10       7   \n",
       "6  Show banners with current offers and sales on ...      5       3   \n",
       "2  Add product recommendation blocks to the store...      8       3   \n",
       "1  Launch your own delivery service. This will sh...      2       5   \n",
       "5  Add a customer review page. This will increase...      3       2   \n",
       "3  Change the category structure. This will incre...      8       3   \n",
       "4  Change the background color on the main page. ...      3       1   \n",
       "\n",
       "   confidence  effort        ICE   RICE  \n",
       "8           9       5  16.200000   16.2  \n",
       "0           8       6  13.333333   40.0  \n",
       "7           8       5  11.200000  112.0  \n",
       "6           8       3   8.000000   40.0  \n",
       "2           7       3   7.000000   56.0  \n",
       "1           4      10   2.000000    4.0  \n",
       "5           2       3   1.333333    4.0  \n",
       "3           3       8   1.125000    9.0  \n",
       "4           1       1   1.000000    3.0  "
      ]
     },
     "execution_count": 18,
     "metadata": {},
     "output_type": "execute_result"
    }
   ],
   "source": [
    "df_hypotheses_ice = df_hypotheses.sort_values(by=\"ICE\", ascending=False)\n",
    "df_hypotheses_ice"
   ]
  },
  {
   "cell_type": "code",
   "execution_count": 19,
   "metadata": {
    "trusted": true
   },
   "outputs": [
    {
     "data": {
      "text/html": [
       "<div>\n",
       "<style scoped>\n",
       "    .dataframe tbody tr th:only-of-type {\n",
       "        vertical-align: middle;\n",
       "    }\n",
       "\n",
       "    .dataframe tbody tr th {\n",
       "        vertical-align: top;\n",
       "    }\n",
       "\n",
       "    .dataframe thead th {\n",
       "        text-align: right;\n",
       "    }\n",
       "</style>\n",
       "<table border=\"1\" class=\"dataframe\">\n",
       "  <thead>\n",
       "    <tr style=\"text-align: right;\">\n",
       "      <th></th>\n",
       "      <th>hypothesis</th>\n",
       "      <th>reach</th>\n",
       "      <th>impact</th>\n",
       "      <th>confidence</th>\n",
       "      <th>effort</th>\n",
       "      <th>ICE</th>\n",
       "      <th>RICE</th>\n",
       "    </tr>\n",
       "  </thead>\n",
       "  <tbody>\n",
       "    <tr>\n",
       "      <th>7</th>\n",
       "      <td>Add a subscription form to all the main pages....</td>\n",
       "      <td>10</td>\n",
       "      <td>7</td>\n",
       "      <td>8</td>\n",
       "      <td>5</td>\n",
       "      <td>11.200000</td>\n",
       "      <td>112.0</td>\n",
       "    </tr>\n",
       "    <tr>\n",
       "      <th>2</th>\n",
       "      <td>Add product recommendation blocks to the store...</td>\n",
       "      <td>8</td>\n",
       "      <td>3</td>\n",
       "      <td>7</td>\n",
       "      <td>3</td>\n",
       "      <td>7.000000</td>\n",
       "      <td>56.0</td>\n",
       "    </tr>\n",
       "    <tr>\n",
       "      <th>0</th>\n",
       "      <td>Add two new channels for attracting traffic. T...</td>\n",
       "      <td>3</td>\n",
       "      <td>10</td>\n",
       "      <td>8</td>\n",
       "      <td>6</td>\n",
       "      <td>13.333333</td>\n",
       "      <td>40.0</td>\n",
       "    </tr>\n",
       "    <tr>\n",
       "      <th>6</th>\n",
       "      <td>Show banners with current offers and sales on ...</td>\n",
       "      <td>5</td>\n",
       "      <td>3</td>\n",
       "      <td>8</td>\n",
       "      <td>3</td>\n",
       "      <td>8.000000</td>\n",
       "      <td>40.0</td>\n",
       "    </tr>\n",
       "    <tr>\n",
       "      <th>8</th>\n",
       "      <td>Launch a promotion that gives users discounts ...</td>\n",
       "      <td>1</td>\n",
       "      <td>9</td>\n",
       "      <td>9</td>\n",
       "      <td>5</td>\n",
       "      <td>16.200000</td>\n",
       "      <td>16.2</td>\n",
       "    </tr>\n",
       "    <tr>\n",
       "      <th>3</th>\n",
       "      <td>Change the category structure. This will incre...</td>\n",
       "      <td>8</td>\n",
       "      <td>3</td>\n",
       "      <td>3</td>\n",
       "      <td>8</td>\n",
       "      <td>1.125000</td>\n",
       "      <td>9.0</td>\n",
       "    </tr>\n",
       "    <tr>\n",
       "      <th>1</th>\n",
       "      <td>Launch your own delivery service. This will sh...</td>\n",
       "      <td>2</td>\n",
       "      <td>5</td>\n",
       "      <td>4</td>\n",
       "      <td>10</td>\n",
       "      <td>2.000000</td>\n",
       "      <td>4.0</td>\n",
       "    </tr>\n",
       "    <tr>\n",
       "      <th>5</th>\n",
       "      <td>Add a customer review page. This will increase...</td>\n",
       "      <td>3</td>\n",
       "      <td>2</td>\n",
       "      <td>2</td>\n",
       "      <td>3</td>\n",
       "      <td>1.333333</td>\n",
       "      <td>4.0</td>\n",
       "    </tr>\n",
       "    <tr>\n",
       "      <th>4</th>\n",
       "      <td>Change the background color on the main page. ...</td>\n",
       "      <td>3</td>\n",
       "      <td>1</td>\n",
       "      <td>1</td>\n",
       "      <td>1</td>\n",
       "      <td>1.000000</td>\n",
       "      <td>3.0</td>\n",
       "    </tr>\n",
       "  </tbody>\n",
       "</table>\n",
       "</div>"
      ],
      "text/plain": [
       "                                          hypothesis  reach  impact  \\\n",
       "7  Add a subscription form to all the main pages....     10       7   \n",
       "2  Add product recommendation blocks to the store...      8       3   \n",
       "0  Add two new channels for attracting traffic. T...      3      10   \n",
       "6  Show banners with current offers and sales on ...      5       3   \n",
       "8  Launch a promotion that gives users discounts ...      1       9   \n",
       "3  Change the category structure. This will incre...      8       3   \n",
       "1  Launch your own delivery service. This will sh...      2       5   \n",
       "5  Add a customer review page. This will increase...      3       2   \n",
       "4  Change the background color on the main page. ...      3       1   \n",
       "\n",
       "   confidence  effort        ICE   RICE  \n",
       "7           8       5  11.200000  112.0  \n",
       "2           7       3   7.000000   56.0  \n",
       "0           8       6  13.333333   40.0  \n",
       "6           8       3   8.000000   40.0  \n",
       "8           9       5  16.200000   16.2  \n",
       "3           3       8   1.125000    9.0  \n",
       "1           4      10   2.000000    4.0  \n",
       "5           2       3   1.333333    4.0  \n",
       "4           1       1   1.000000    3.0  "
      ]
     },
     "execution_count": 19,
     "metadata": {},
     "output_type": "execute_result"
    }
   ],
   "source": [
    "df_hypotheses_rice = df_hypotheses.sort_values(by=\"RICE\", ascending=False)\n",
    "df_hypotheses_rice"
   ]
  },
  {
   "cell_type": "markdown",
   "metadata": {},
   "source": [
    "La diferencia entre ambos enfoques de priorización de hipótesis reside en que ICE se concentra principalmente en las propuestas que requieran menos esfuerzo, mientras que RICE también prioriza un menor esfuerzo; pero toma en cuenta el factor de alcance para determinar si la propuesta beneficiará a una buena cantidad de usuarios. \n",
    "\n",
    "En la prueba ICE, la propuesta ganadora es \"Lanzar una promoción que ofrezca a los usuarios descuentos\". Por lo que esta hipótesis tener beneficios inmediatos para los usuarios activos/registrados. Por lo tanto, la promoción de descuentos es una estrategia que no implica un gran esfuerzo para su implementación. Aunque se debe de cuidar sus implicaciones para el margen de beneficio.  \n",
    "\n",
    "En la prueba RICE, la propuesta con mejor puntuación es \"Añadir un formulario de suscripción en todas las páginas principales\". Esta propuesta tiene un alcance de 10, por lo que todos los usuarios tanto activos como potenciales se verán afectados por su implementación. Igualmente su puntuación de esfuerzo es intermedio por lo que puede ser una buena propuesta. Sin embargo, aquí se debe de tener precaución en cómo reaccionarán los usuarios al ver un formulario cada vez que entren al sitio o a las páginas principales. "
   ]
  },
  {
   "cell_type": "markdown",
   "metadata": {},
   "source": [
    "# Parte 2. Análisis del test A/B"
   ]
  },
  {
   "cell_type": "markdown",
   "metadata": {},
   "source": [
    "- Asegúrate de preprocesar los datos. Es posible que haya errores en los datasets originales; por ejemplo, algunos de los visitantes podrían haber entrado tanto en el grupo A como en el grupo B."
   ]
  },
  {
   "cell_type": "code",
   "execution_count": 20,
   "metadata": {
    "trusted": true
   },
   "outputs": [
    {
     "data": {
      "text/html": [
       "<div>\n",
       "<style scoped>\n",
       "    .dataframe tbody tr th:only-of-type {\n",
       "        vertical-align: middle;\n",
       "    }\n",
       "\n",
       "    .dataframe tbody tr th {\n",
       "        vertical-align: top;\n",
       "    }\n",
       "\n",
       "    .dataframe thead th {\n",
       "        text-align: right;\n",
       "    }\n",
       "</style>\n",
       "<table border=\"1\" class=\"dataframe\">\n",
       "  <thead>\n",
       "    <tr style=\"text-align: right;\">\n",
       "      <th></th>\n",
       "      <th>visitor_id</th>\n",
       "      <th>date</th>\n",
       "      <th>group</th>\n",
       "    </tr>\n",
       "  </thead>\n",
       "  <tbody>\n",
       "    <tr>\n",
       "      <th>56</th>\n",
       "      <td>232979603</td>\n",
       "      <td>2019-08-31</td>\n",
       "      <td>2</td>\n",
       "    </tr>\n",
       "    <tr>\n",
       "      <th>61</th>\n",
       "      <td>237748145</td>\n",
       "      <td>2019-08-15</td>\n",
       "      <td>2</td>\n",
       "    </tr>\n",
       "    <tr>\n",
       "      <th>141</th>\n",
       "      <td>477780734</td>\n",
       "      <td>2019-08-30</td>\n",
       "      <td>2</td>\n",
       "    </tr>\n",
       "    <tr>\n",
       "      <th>323</th>\n",
       "      <td>1230306981</td>\n",
       "      <td>2019-08-09</td>\n",
       "      <td>2</td>\n",
       "    </tr>\n",
       "    <tr>\n",
       "      <th>342</th>\n",
       "      <td>1316129916</td>\n",
       "      <td>2019-08-27</td>\n",
       "      <td>2</td>\n",
       "    </tr>\n",
       "    <tr>\n",
       "      <th>426</th>\n",
       "      <td>1614305549</td>\n",
       "      <td>2019-08-29</td>\n",
       "      <td>2</td>\n",
       "    </tr>\n",
       "    <tr>\n",
       "      <th>477</th>\n",
       "      <td>1801183820</td>\n",
       "      <td>2019-08-05</td>\n",
       "      <td>2</td>\n",
       "    </tr>\n",
       "    <tr>\n",
       "      <th>530</th>\n",
       "      <td>2038680547</td>\n",
       "      <td>2019-08-04</td>\n",
       "      <td>2</td>\n",
       "    </tr>\n",
       "    <tr>\n",
       "      <th>624</th>\n",
       "      <td>2378935119</td>\n",
       "      <td>2019-08-10</td>\n",
       "      <td>2</td>\n",
       "    </tr>\n",
       "    <tr>\n",
       "      <th>653</th>\n",
       "      <td>2458001652</td>\n",
       "      <td>2019-08-06</td>\n",
       "      <td>2</td>\n",
       "    </tr>\n",
       "    <tr>\n",
       "      <th>682</th>\n",
       "      <td>2579882178</td>\n",
       "      <td>2019-08-18</td>\n",
       "      <td>2</td>\n",
       "    </tr>\n",
       "    <tr>\n",
       "      <th>689</th>\n",
       "      <td>2587333274</td>\n",
       "      <td>2019-08-08</td>\n",
       "      <td>2</td>\n",
       "    </tr>\n",
       "    <tr>\n",
       "      <th>720</th>\n",
       "      <td>2686716486</td>\n",
       "      <td>2019-08-23</td>\n",
       "      <td>2</td>\n",
       "    </tr>\n",
       "    <tr>\n",
       "      <th>795</th>\n",
       "      <td>2949041841</td>\n",
       "      <td>2019-08-14</td>\n",
       "      <td>2</td>\n",
       "    </tr>\n",
       "    <tr>\n",
       "      <th>827</th>\n",
       "      <td>3062433592</td>\n",
       "      <td>2019-08-12</td>\n",
       "      <td>2</td>\n",
       "    </tr>\n",
       "    <tr>\n",
       "      <th>868</th>\n",
       "      <td>3202540741</td>\n",
       "      <td>2019-08-24</td>\n",
       "      <td>2</td>\n",
       "    </tr>\n",
       "    <tr>\n",
       "      <th>988</th>\n",
       "      <td>3717692402</td>\n",
       "      <td>2019-08-21</td>\n",
       "      <td>2</td>\n",
       "    </tr>\n",
       "    <tr>\n",
       "      <th>1001</th>\n",
       "      <td>3766097110</td>\n",
       "      <td>2019-08-30</td>\n",
       "      <td>2</td>\n",
       "    </tr>\n",
       "    <tr>\n",
       "      <th>1027</th>\n",
       "      <td>3891541246</td>\n",
       "      <td>2019-08-04</td>\n",
       "      <td>2</td>\n",
       "    </tr>\n",
       "    <tr>\n",
       "      <th>1052</th>\n",
       "      <td>3951559397</td>\n",
       "      <td>2019-08-29</td>\n",
       "      <td>2</td>\n",
       "    </tr>\n",
       "    <tr>\n",
       "      <th>1057</th>\n",
       "      <td>3963646447</td>\n",
       "      <td>2019-08-14</td>\n",
       "      <td>2</td>\n",
       "    </tr>\n",
       "    <tr>\n",
       "      <th>1140</th>\n",
       "      <td>4256040402</td>\n",
       "      <td>2019-08-31</td>\n",
       "      <td>2</td>\n",
       "    </tr>\n",
       "    <tr>\n",
       "      <th>1143</th>\n",
       "      <td>4266935830</td>\n",
       "      <td>2019-08-29</td>\n",
       "      <td>2</td>\n",
       "    </tr>\n",
       "  </tbody>\n",
       "</table>\n",
       "</div>"
      ],
      "text/plain": [
       "      visitor_id       date  group\n",
       "56     232979603 2019-08-31      2\n",
       "61     237748145 2019-08-15      2\n",
       "141    477780734 2019-08-30      2\n",
       "323   1230306981 2019-08-09      2\n",
       "342   1316129916 2019-08-27      2\n",
       "426   1614305549 2019-08-29      2\n",
       "477   1801183820 2019-08-05      2\n",
       "530   2038680547 2019-08-04      2\n",
       "624   2378935119 2019-08-10      2\n",
       "653   2458001652 2019-08-06      2\n",
       "682   2579882178 2019-08-18      2\n",
       "689   2587333274 2019-08-08      2\n",
       "720   2686716486 2019-08-23      2\n",
       "795   2949041841 2019-08-14      2\n",
       "827   3062433592 2019-08-12      2\n",
       "868   3202540741 2019-08-24      2\n",
       "988   3717692402 2019-08-21      2\n",
       "1001  3766097110 2019-08-30      2\n",
       "1027  3891541246 2019-08-04      2\n",
       "1052  3951559397 2019-08-29      2\n",
       "1057  3963646447 2019-08-14      2\n",
       "1140  4256040402 2019-08-31      2\n",
       "1143  4266935830 2019-08-29      2"
      ]
     },
     "execution_count": 20,
     "metadata": {},
     "output_type": "execute_result"
    }
   ],
   "source": [
    "df_visitor_groups = df_orders.groupby([\"visitor_id\", \"date\"])[\"group\"].nunique().reset_index()\n",
    "conflicting_visitors = df_visitor_groups[df_visitor_groups[\"group\"] > 1]\n",
    "conflicting_visitors"
   ]
  },
  {
   "cell_type": "code",
   "execution_count": 21,
   "metadata": {
    "trusted": true
   },
   "outputs": [
    {
     "data": {
      "text/html": [
       "<div>\n",
       "<style scoped>\n",
       "    .dataframe tbody tr th:only-of-type {\n",
       "        vertical-align: middle;\n",
       "    }\n",
       "\n",
       "    .dataframe tbody tr th {\n",
       "        vertical-align: top;\n",
       "    }\n",
       "\n",
       "    .dataframe thead th {\n",
       "        text-align: right;\n",
       "    }\n",
       "</style>\n",
       "<table border=\"1\" class=\"dataframe\">\n",
       "  <thead>\n",
       "    <tr style=\"text-align: right;\">\n",
       "      <th></th>\n",
       "      <th>transaction_id</th>\n",
       "      <th>visitor_id</th>\n",
       "      <th>date</th>\n",
       "      <th>revenue</th>\n",
       "      <th>group</th>\n",
       "    </tr>\n",
       "  </thead>\n",
       "  <tbody>\n",
       "    <tr>\n",
       "      <th>0</th>\n",
       "      <td>3667963787</td>\n",
       "      <td>3312258926</td>\n",
       "      <td>2019-08-15</td>\n",
       "      <td>30.4</td>\n",
       "      <td>B</td>\n",
       "    </tr>\n",
       "    <tr>\n",
       "      <th>1</th>\n",
       "      <td>2804400009</td>\n",
       "      <td>3642806036</td>\n",
       "      <td>2019-08-15</td>\n",
       "      <td>15.2</td>\n",
       "      <td>B</td>\n",
       "    </tr>\n",
       "    <tr>\n",
       "      <th>2</th>\n",
       "      <td>2961555356</td>\n",
       "      <td>4069496402</td>\n",
       "      <td>2019-08-15</td>\n",
       "      <td>10.2</td>\n",
       "      <td>A</td>\n",
       "    </tr>\n",
       "    <tr>\n",
       "      <th>3</th>\n",
       "      <td>3797467345</td>\n",
       "      <td>1196621759</td>\n",
       "      <td>2019-08-15</td>\n",
       "      <td>155.1</td>\n",
       "      <td>B</td>\n",
       "    </tr>\n",
       "    <tr>\n",
       "      <th>4</th>\n",
       "      <td>2282983706</td>\n",
       "      <td>2322279887</td>\n",
       "      <td>2019-08-15</td>\n",
       "      <td>40.5</td>\n",
       "      <td>B</td>\n",
       "    </tr>\n",
       "    <tr>\n",
       "      <th>...</th>\n",
       "      <td>...</td>\n",
       "      <td>...</td>\n",
       "      <td>...</td>\n",
       "      <td>...</td>\n",
       "      <td>...</td>\n",
       "    </tr>\n",
       "    <tr>\n",
       "      <th>1191</th>\n",
       "      <td>3592955527</td>\n",
       "      <td>608641596</td>\n",
       "      <td>2019-08-14</td>\n",
       "      <td>255.7</td>\n",
       "      <td>B</td>\n",
       "    </tr>\n",
       "    <tr>\n",
       "      <th>1192</th>\n",
       "      <td>2662137336</td>\n",
       "      <td>3733762160</td>\n",
       "      <td>2019-08-14</td>\n",
       "      <td>100.8</td>\n",
       "      <td>B</td>\n",
       "    </tr>\n",
       "    <tr>\n",
       "      <th>1193</th>\n",
       "      <td>2203539145</td>\n",
       "      <td>370388673</td>\n",
       "      <td>2019-08-14</td>\n",
       "      <td>50.1</td>\n",
       "      <td>A</td>\n",
       "    </tr>\n",
       "    <tr>\n",
       "      <th>1194</th>\n",
       "      <td>1807773912</td>\n",
       "      <td>573423106</td>\n",
       "      <td>2019-08-14</td>\n",
       "      <td>165.3</td>\n",
       "      <td>A</td>\n",
       "    </tr>\n",
       "    <tr>\n",
       "      <th>1196</th>\n",
       "      <td>3936777065</td>\n",
       "      <td>2108080724</td>\n",
       "      <td>2019-08-15</td>\n",
       "      <td>3120.1</td>\n",
       "      <td>B</td>\n",
       "    </tr>\n",
       "  </tbody>\n",
       "</table>\n",
       "<p>1103 rows × 5 columns</p>\n",
       "</div>"
      ],
      "text/plain": [
       "      transaction_id  visitor_id       date  revenue group\n",
       "0         3667963787  3312258926 2019-08-15     30.4     B\n",
       "1         2804400009  3642806036 2019-08-15     15.2     B\n",
       "2         2961555356  4069496402 2019-08-15     10.2     A\n",
       "3         3797467345  1196621759 2019-08-15    155.1     B\n",
       "4         2282983706  2322279887 2019-08-15     40.5     B\n",
       "...              ...         ...        ...      ...   ...\n",
       "1191      3592955527   608641596 2019-08-14    255.7     B\n",
       "1192      2662137336  3733762160 2019-08-14    100.8     B\n",
       "1193      2203539145   370388673 2019-08-14     50.1     A\n",
       "1194      1807773912   573423106 2019-08-14    165.3     A\n",
       "1196      3936777065  2108080724 2019-08-15   3120.1     B\n",
       "\n",
       "[1103 rows x 5 columns]"
      ]
     },
     "execution_count": 21,
     "metadata": {},
     "output_type": "execute_result"
    }
   ],
   "source": [
    "df_orders = df_orders[~df_orders[\"visitor_id\"].isin(conflicting_visitors[\"visitor_id\"])]\n",
    "df_orders"
   ]
  },
  {
   "cell_type": "code",
   "execution_count": 22,
   "metadata": {
    "trusted": true
   },
   "outputs": [
    {
     "data": {
      "text/html": [
       "<div>\n",
       "<style scoped>\n",
       "    .dataframe tbody tr th:only-of-type {\n",
       "        vertical-align: middle;\n",
       "    }\n",
       "\n",
       "    .dataframe tbody tr th {\n",
       "        vertical-align: top;\n",
       "    }\n",
       "\n",
       "    .dataframe thead th {\n",
       "        text-align: right;\n",
       "    }\n",
       "</style>\n",
       "<table border=\"1\" class=\"dataframe\">\n",
       "  <thead>\n",
       "    <tr style=\"text-align: right;\">\n",
       "      <th></th>\n",
       "      <th>visitor_id</th>\n",
       "      <th>date</th>\n",
       "      <th>group</th>\n",
       "    </tr>\n",
       "  </thead>\n",
       "  <tbody>\n",
       "  </tbody>\n",
       "</table>\n",
       "</div>"
      ],
      "text/plain": [
       "Empty DataFrame\n",
       "Columns: [visitor_id, date, group]\n",
       "Index: []"
      ]
     },
     "execution_count": 22,
     "metadata": {},
     "output_type": "execute_result"
    }
   ],
   "source": [
    "df_visitor_groups_review = df_orders.groupby([\"visitor_id\", \"date\"])[\"group\"].nunique().reset_index()\n",
    "conflicting_visitors_review = df_visitor_groups_review[df_visitor_groups_review[\"group\"] > 1]\n",
    "conflicting_visitors_review"
   ]
  },
  {
   "cell_type": "code",
   "execution_count": 23,
   "metadata": {
    "trusted": true
   },
   "outputs": [
    {
     "data": {
      "text/html": [
       "<div>\n",
       "<style scoped>\n",
       "    .dataframe tbody tr th:only-of-type {\n",
       "        vertical-align: middle;\n",
       "    }\n",
       "\n",
       "    .dataframe tbody tr th {\n",
       "        vertical-align: top;\n",
       "    }\n",
       "\n",
       "    .dataframe thead th {\n",
       "        text-align: right;\n",
       "    }\n",
       "</style>\n",
       "<table border=\"1\" class=\"dataframe\">\n",
       "  <thead>\n",
       "    <tr style=\"text-align: right;\">\n",
       "      <th></th>\n",
       "      <th>transaction_id</th>\n",
       "      <th>visitor_id</th>\n",
       "      <th>date</th>\n",
       "      <th>revenue</th>\n",
       "      <th>group</th>\n",
       "    </tr>\n",
       "  </thead>\n",
       "  <tbody>\n",
       "    <tr>\n",
       "      <th>0</th>\n",
       "      <td>3667963787</td>\n",
       "      <td>3312258926</td>\n",
       "      <td>2019-08-15</td>\n",
       "      <td>30.4</td>\n",
       "      <td>B</td>\n",
       "    </tr>\n",
       "    <tr>\n",
       "      <th>1</th>\n",
       "      <td>2804400009</td>\n",
       "      <td>3642806036</td>\n",
       "      <td>2019-08-15</td>\n",
       "      <td>15.2</td>\n",
       "      <td>B</td>\n",
       "    </tr>\n",
       "    <tr>\n",
       "      <th>2</th>\n",
       "      <td>2961555356</td>\n",
       "      <td>4069496402</td>\n",
       "      <td>2019-08-15</td>\n",
       "      <td>10.2</td>\n",
       "      <td>A</td>\n",
       "    </tr>\n",
       "    <tr>\n",
       "      <th>3</th>\n",
       "      <td>3797467345</td>\n",
       "      <td>1196621759</td>\n",
       "      <td>2019-08-15</td>\n",
       "      <td>155.1</td>\n",
       "      <td>B</td>\n",
       "    </tr>\n",
       "    <tr>\n",
       "      <th>4</th>\n",
       "      <td>2282983706</td>\n",
       "      <td>2322279887</td>\n",
       "      <td>2019-08-15</td>\n",
       "      <td>40.5</td>\n",
       "      <td>B</td>\n",
       "    </tr>\n",
       "    <tr>\n",
       "      <th>...</th>\n",
       "      <td>...</td>\n",
       "      <td>...</td>\n",
       "      <td>...</td>\n",
       "      <td>...</td>\n",
       "      <td>...</td>\n",
       "    </tr>\n",
       "    <tr>\n",
       "      <th>1191</th>\n",
       "      <td>3592955527</td>\n",
       "      <td>608641596</td>\n",
       "      <td>2019-08-14</td>\n",
       "      <td>255.7</td>\n",
       "      <td>B</td>\n",
       "    </tr>\n",
       "    <tr>\n",
       "      <th>1192</th>\n",
       "      <td>2662137336</td>\n",
       "      <td>3733762160</td>\n",
       "      <td>2019-08-14</td>\n",
       "      <td>100.8</td>\n",
       "      <td>B</td>\n",
       "    </tr>\n",
       "    <tr>\n",
       "      <th>1193</th>\n",
       "      <td>2203539145</td>\n",
       "      <td>370388673</td>\n",
       "      <td>2019-08-14</td>\n",
       "      <td>50.1</td>\n",
       "      <td>A</td>\n",
       "    </tr>\n",
       "    <tr>\n",
       "      <th>1194</th>\n",
       "      <td>1807773912</td>\n",
       "      <td>573423106</td>\n",
       "      <td>2019-08-14</td>\n",
       "      <td>165.3</td>\n",
       "      <td>A</td>\n",
       "    </tr>\n",
       "    <tr>\n",
       "      <th>1196</th>\n",
       "      <td>3936777065</td>\n",
       "      <td>2108080724</td>\n",
       "      <td>2019-08-15</td>\n",
       "      <td>3120.1</td>\n",
       "      <td>B</td>\n",
       "    </tr>\n",
       "  </tbody>\n",
       "</table>\n",
       "<p>1103 rows × 5 columns</p>\n",
       "</div>"
      ],
      "text/plain": [
       "      transaction_id  visitor_id       date  revenue group\n",
       "0         3667963787  3312258926 2019-08-15     30.4     B\n",
       "1         2804400009  3642806036 2019-08-15     15.2     B\n",
       "2         2961555356  4069496402 2019-08-15     10.2     A\n",
       "3         3797467345  1196621759 2019-08-15    155.1     B\n",
       "4         2282983706  2322279887 2019-08-15     40.5     B\n",
       "...              ...         ...        ...      ...   ...\n",
       "1191      3592955527   608641596 2019-08-14    255.7     B\n",
       "1192      2662137336  3733762160 2019-08-14    100.8     B\n",
       "1193      2203539145   370388673 2019-08-14     50.1     A\n",
       "1194      1807773912   573423106 2019-08-14    165.3     A\n",
       "1196      3936777065  2108080724 2019-08-15   3120.1     B\n",
       "\n",
       "[1103 rows x 5 columns]"
      ]
     },
     "execution_count": 23,
     "metadata": {},
     "output_type": "execute_result"
    }
   ],
   "source": [
    "df_orders"
   ]
  },
  {
   "cell_type": "markdown",
   "metadata": {},
   "source": [
    "- Representa gráficamente el ingreso acumulado por grupo. Haz conclusiones y conjeturas."
   ]
  },
  {
   "cell_type": "code",
   "execution_count": 24,
   "metadata": {
    "trusted": true
   },
   "outputs": [],
   "source": [
    "datesGroups = df_orders[[\"date\",\"group\"]].drop_duplicates()\n",
    "ordersAggregated = datesGroups.apply(\n",
    "                                lambda x: df_orders[np.logical_and(df_orders[\"date\"] <= x[\"date\"], \n",
    "                                df_orders[\"group\"] == x[\"group\"])].agg(\n",
    "                                {\"date\": \"max\", \"group\": \"max\", \"transaction_id\": \n",
    "                                 pd.Series.nunique, \"visitor_id\": pd.Series.nunique, \"revenue\": \n",
    "                                \"sum\"}), axis=1).sort_values(by=[\"date\",\"group\"])\n"
   ]
  },
  {
   "cell_type": "code",
   "execution_count": 25,
   "metadata": {
    "trusted": true
   },
   "outputs": [],
   "source": [
    "visitorsAggregated = datesGroups.apply(lambda x: df_visits[np.logical_and(df_visits[\"date\"] <= x[\"date\"], \n",
    "                     df_visits[\"group\"] == x[\"group\"])].agg( {\"date\": \"max\", \"group\": \"max\", \"visits\": \"sum\"}), \n",
    "                     axis=1).sort_values(by=[\"date\",\"group\"])"
   ]
  },
  {
   "cell_type": "code",
   "execution_count": 26,
   "metadata": {
    "trusted": true
   },
   "outputs": [
    {
     "data": {
      "text/html": [
       "<div>\n",
       "<style scoped>\n",
       "    .dataframe tbody tr th:only-of-type {\n",
       "        vertical-align: middle;\n",
       "    }\n",
       "\n",
       "    .dataframe tbody tr th {\n",
       "        vertical-align: top;\n",
       "    }\n",
       "\n",
       "    .dataframe thead th {\n",
       "        text-align: right;\n",
       "    }\n",
       "</style>\n",
       "<table border=\"1\" class=\"dataframe\">\n",
       "  <thead>\n",
       "    <tr style=\"text-align: right;\">\n",
       "      <th></th>\n",
       "      <th>date</th>\n",
       "      <th>group</th>\n",
       "      <th>orders</th>\n",
       "      <th>buyers</th>\n",
       "      <th>revenue</th>\n",
       "      <th>visitors</th>\n",
       "    </tr>\n",
       "  </thead>\n",
       "  <tbody>\n",
       "    <tr>\n",
       "      <th>0</th>\n",
       "      <td>2019-08-01</td>\n",
       "      <td>A</td>\n",
       "      <td>23</td>\n",
       "      <td>19</td>\n",
       "      <td>2266.6</td>\n",
       "      <td>719</td>\n",
       "    </tr>\n",
       "    <tr>\n",
       "      <th>1</th>\n",
       "      <td>2019-08-01</td>\n",
       "      <td>B</td>\n",
       "      <td>19</td>\n",
       "      <td>19</td>\n",
       "      <td>1258.8</td>\n",
       "      <td>713</td>\n",
       "    </tr>\n",
       "    <tr>\n",
       "      <th>2</th>\n",
       "      <td>2019-08-02</td>\n",
       "      <td>A</td>\n",
       "      <td>43</td>\n",
       "      <td>37</td>\n",
       "      <td>3770.1</td>\n",
       "      <td>1338</td>\n",
       "    </tr>\n",
       "    <tr>\n",
       "      <th>3</th>\n",
       "      <td>2019-08-02</td>\n",
       "      <td>B</td>\n",
       "      <td>43</td>\n",
       "      <td>42</td>\n",
       "      <td>3882.6</td>\n",
       "      <td>1294</td>\n",
       "    </tr>\n",
       "    <tr>\n",
       "      <th>4</th>\n",
       "      <td>2019-08-03</td>\n",
       "      <td>A</td>\n",
       "      <td>67</td>\n",
       "      <td>61</td>\n",
       "      <td>5585.3</td>\n",
       "      <td>1845</td>\n",
       "    </tr>\n",
       "    <tr>\n",
       "      <th>...</th>\n",
       "      <td>...</td>\n",
       "      <td>...</td>\n",
       "      <td>...</td>\n",
       "      <td>...</td>\n",
       "      <td>...</td>\n",
       "      <td>...</td>\n",
       "    </tr>\n",
       "    <tr>\n",
       "      <th>57</th>\n",
       "      <td>2019-08-29</td>\n",
       "      <td>B</td>\n",
       "      <td>554</td>\n",
       "      <td>524</td>\n",
       "      <td>78801.1</td>\n",
       "      <td>17708</td>\n",
       "    </tr>\n",
       "    <tr>\n",
       "      <th>58</th>\n",
       "      <td>2019-08-30</td>\n",
       "      <td>A</td>\n",
       "      <td>499</td>\n",
       "      <td>471</td>\n",
       "      <td>57133.5</td>\n",
       "      <td>18037</td>\n",
       "    </tr>\n",
       "    <tr>\n",
       "      <th>59</th>\n",
       "      <td>2019-08-30</td>\n",
       "      <td>B</td>\n",
       "      <td>576</td>\n",
       "      <td>545</td>\n",
       "      <td>82123.7</td>\n",
       "      <td>18198</td>\n",
       "    </tr>\n",
       "    <tr>\n",
       "      <th>60</th>\n",
       "      <td>2019-08-31</td>\n",
       "      <td>A</td>\n",
       "      <td>509</td>\n",
       "      <td>480</td>\n",
       "      <td>58038.5</td>\n",
       "      <td>18736</td>\n",
       "    </tr>\n",
       "    <tr>\n",
       "      <th>61</th>\n",
       "      <td>2019-08-31</td>\n",
       "      <td>B</td>\n",
       "      <td>594</td>\n",
       "      <td>563</td>\n",
       "      <td>84151.9</td>\n",
       "      <td>18916</td>\n",
       "    </tr>\n",
       "  </tbody>\n",
       "</table>\n",
       "<p>62 rows × 6 columns</p>\n",
       "</div>"
      ],
      "text/plain": [
       "         date group  orders  buyers  revenue  visitors\n",
       "0  2019-08-01     A      23      19   2266.6       719\n",
       "1  2019-08-01     B      19      19   1258.8       713\n",
       "2  2019-08-02     A      43      37   3770.1      1338\n",
       "3  2019-08-02     B      43      42   3882.6      1294\n",
       "4  2019-08-03     A      67      61   5585.3      1845\n",
       "..        ...   ...     ...     ...      ...       ...\n",
       "57 2019-08-29     B     554     524  78801.1     17708\n",
       "58 2019-08-30     A     499     471  57133.5     18037\n",
       "59 2019-08-30     B     576     545  82123.7     18198\n",
       "60 2019-08-31     A     509     480  58038.5     18736\n",
       "61 2019-08-31     B     594     563  84151.9     18916\n",
       "\n",
       "[62 rows x 6 columns]"
      ]
     },
     "execution_count": 26,
     "metadata": {},
     "output_type": "execute_result"
    }
   ],
   "source": [
    "cumulativeData = ordersAggregated.merge(visitorsAggregated, left_on=[\"date\", \"group\"], right_on=[\"date\", \"group\"])\n",
    "cumulativeData.columns = [\"date\", \"group\", \"orders\", \"buyers\", \"revenue\", \"visitors\"]\n",
    "cumulativeData"
   ]
  },
  {
   "cell_type": "code",
   "execution_count": 27,
   "metadata": {
    "trusted": true
   },
   "outputs": [
    {
     "data": {
      "text/plain": [
       "<matplotlib.legend.Legend at 0x7f7932a996d0>"
      ]
     },
     "execution_count": 27,
     "metadata": {},
     "output_type": "execute_result"
    },
    {
     "data": {
      "image/png": "[encoded data removed]",
      "text/plain": [
       "<Figure size 640x480 with 1 Axes>"
      ]
     },
     "metadata": {},
     "output_type": "display_data"
    }
   ],
   "source": [
    "cumulativeRevenueA = cumulativeData[cumulativeData[\"group\"]==\"A\"][[\"date\",\"revenue\", \"orders\"]]\n",
    "cumulativeRevenueB = cumulativeData[cumulativeData[\"group\"]==\"B\"][[\"date\",\"revenue\", \"orders\"]]\n",
    "plt.plot(cumulativeRevenueA[\"date\"], cumulativeRevenueA[\"revenue\"], label=\"A\", color=\"hotpink\")\n",
    "plt.plot(cumulativeRevenueB[\"date\"], cumulativeRevenueB[\"revenue\"], label=\"B\", color=\"deepskyblue\")\n",
    "plt.title(\"Ingreso Acumulado por Grupo\", color=\"darkslategray\")\n",
    "plt.legend()\n"
   ]
  },
  {
   "cell_type": "markdown",
   "metadata": {},
   "source": [
    "La prueba que se llevó a cabo durante todo agosto nos muestra que ambos grupos tuvieron un comportamiento casi paralelo hasta la mitad de la prueba. Sin embargo, el grupo B tiene un gran aumento en su ingreso acumulado con una diferencia de casi 30,000 contra el grupo A. Al final de la prueba el grupo B acumuló más de 80,000 comparado con los casi 58,000 del grupo A. "
   ]
  },
  {
   "cell_type": "markdown",
   "metadata": {},
   "source": [
    "- Representa gráficamente el tamaño de pedido promedio acumulado por grupo. Haz conclusiones y conjeturas."
   ]
  },
  {
   "cell_type": "code",
   "execution_count": 28,
   "metadata": {
    "trusted": true
   },
   "outputs": [
    {
     "data": {
      "text/plain": [
       "<matplotlib.legend.Legend at 0x7f79329ac2b0>"
      ]
     },
     "execution_count": 28,
     "metadata": {},
     "output_type": "execute_result"
    },
    {
     "data": {
      "image/png": "[encoded data removed]",
      "text/plain": [
       "<Figure size 640x480 with 1 Axes>"
      ]
     },
     "metadata": {},
     "output_type": "display_data"
    }
   ],
   "source": [
    "cumulativeRevenueA[\"avgOrderSizeA\"] = cumulativeRevenueA[\"revenue\"] / cumulativeRevenueA[\"orders\"]\n",
    "cumulativeRevenueB[\"avgOrderSizeB\"] = cumulativeRevenueB[\"revenue\"] / cumulativeRevenueB[\"orders\"]\n",
    "\n",
    "plt.plot(cumulativeRevenueA[\"date\"], cumulativeRevenueA[\"avgOrderSizeA\"], label=\"Grupo A\", color=\"hotpink\")\n",
    "plt.plot(cumulativeRevenueB[\"date\"], cumulativeRevenueB[\"avgOrderSizeB\"], label=\"Grupo B\", color=\"deepskyblue\")\n",
    "\n",
    "\n",
    "plt.title(\"Tamaño de Pedido Promedio Acumulado por Grupo\", color=\"darkslategray\")\n",
    "plt.legend()\n"
   ]
  },
  {
   "cell_type": "markdown",
   "metadata": {},
   "source": [
    "Para el tamaño promedio de los pedidos ambos grupos presentan comportamientos particulares que los diferencia bastante durante el transcurso de la prueba. Para ell grupo A empiezan con una cantidad considerable de pedidos, sin embargo hasta a mediados del mes presentan una baja gradual, de 100 a casi menos de 80 pedidos. Después de la mitad de mes, aumentan los pedidos hasta casi 120 la cual sería la mayor cantidad de pedidos que realiza este grupo. Después de ese punto mantienen una constante de aproximadamente 110 pedidos. \n",
    "\n",
    "Para el grupo B empiezan con menos de 60 pedidos, pero en los primeros días la prueba es efectiva sobre este grupo ya que sus pedidos aumentan a 100 y a mediados de mes suben hasta 160 pedidos con un leve descenso a aproximadamente 150 pedidos en promedio para este grupo.\n",
    "\n",
    "Por lo tanto, la prueba sobre el grupo B muestra una gran efectividad en lograr que los usuarios coloquen más pedidos a difrencia del grupo A. "
   ]
  },
  {
   "cell_type": "markdown",
   "metadata": {},
   "source": [
    "- Calcula la tasa de conversión de cada grupo como la relación entre los pedidos y el número de visitas de cada día. Representa gráficamente las tasas de conversión diarias de los dos grupos y describe la diferencia."
   ]
  },
  {
   "cell_type": "code",
   "execution_count": 29,
   "metadata": {
    "trusted": true
   },
   "outputs": [
    {
     "data": {
      "text/plain": [
       "<matplotlib.legend.Legend at 0x7f79208efca0>"
      ]
     },
     "execution_count": 29,
     "metadata": {},
     "output_type": "execute_result"
    },
    {
     "data": {
      "image/png": "[encoded data removed]",
      "text/plain": [
       "<Figure size 640x480 with 1 Axes>"
      ]
     },
     "metadata": {},
     "output_type": "display_data"
    }
   ],
   "source": [
    "cumulativeData[\"conversion\"] = cumulativeData[\"orders\"]/cumulativeData[\"visitors\"]\n",
    "cumulativeDataA = cumulativeData[cumulativeData[\"group\"]==\"A\"]\n",
    "cumulativeDataB = cumulativeData[cumulativeData[\"group\"]==\"B\"]\n",
    "plt.plot(cumulativeDataA[\"date\"], cumulativeDataA[\"conversion\"], label=\"A\", color=\"hotpink\")\n",
    "plt.plot(cumulativeDataB[\"date\"], cumulativeDataB[\"conversion\"], label=\"B\", color=\"deepskyblue\")\n",
    "plt.title(\"Tasa de Conversión Cumulativa por Grupo\", color=\"darkslategray\")\n",
    "plt.legend()  \n"
   ]
  },
  {
   "cell_type": "markdown",
   "metadata": {},
   "source": [
    "La tasa de conversión nos muestra la misma efectividad que tuvo la prueba sobre el grupo B, en donde la conversión se mantiene baja al principio, pero a los pocos días de la prueba hay una conversión que pasó del 0.020 al 0.032 de manera abrupta. A pesar de que después tiene una caída, la tasa de conversión se mantiene estable entre 0.033 a 0.030. \n",
    "\n",
    "Mientras que para el grupo A la tasa de conversión empieza alta con 0.036; pero disminuye considerablmente en el transcurso del mes con una tasa entre el 0.029 al 0.025. \n",
    "\n",
    "A pesar de que el grupo B no consigue la alta tasa de conversión inicial del grupo A del 0.036, este se mantiene mucha más interacción e interés de los usuarios por realizar una compra. "
   ]
  },
  {
   "cell_type": "markdown",
   "metadata": {},
   "source": [
    "- Traza un gráfico de dispersión del número de pedidos por usuario. Haz conclusiones y conjeturas."
   ]
  },
  {
   "cell_type": "code",
   "execution_count": 30,
   "metadata": {
    "trusted": true
   },
   "outputs": [
    {
     "data": {
      "text/html": [
       "<div>\n",
       "<style scoped>\n",
       "    .dataframe tbody tr th:only-of-type {\n",
       "        vertical-align: middle;\n",
       "    }\n",
       "\n",
       "    .dataframe tbody tr th {\n",
       "        vertical-align: top;\n",
       "    }\n",
       "\n",
       "    .dataframe thead th {\n",
       "        text-align: right;\n",
       "    }\n",
       "</style>\n",
       "<table border=\"1\" class=\"dataframe\">\n",
       "  <thead>\n",
       "    <tr style=\"text-align: right;\">\n",
       "      <th></th>\n",
       "      <th>userId</th>\n",
       "      <th>orders</th>\n",
       "    </tr>\n",
       "  </thead>\n",
       "  <tbody>\n",
       "    <tr>\n",
       "      <th>899</th>\n",
       "      <td>3803269165</td>\n",
       "      <td>5</td>\n",
       "    </tr>\n",
       "    <tr>\n",
       "      <th>44</th>\n",
       "      <td>199603092</td>\n",
       "      <td>5</td>\n",
       "    </tr>\n",
       "    <tr>\n",
       "      <th>112</th>\n",
       "      <td>457167155</td>\n",
       "      <td>4</td>\n",
       "    </tr>\n",
       "    <tr>\n",
       "      <th>416</th>\n",
       "      <td>1738359350</td>\n",
       "      <td>3</td>\n",
       "    </tr>\n",
       "    <tr>\n",
       "      <th>483</th>\n",
       "      <td>2044997962</td>\n",
       "      <td>3</td>\n",
       "    </tr>\n",
       "    <tr>\n",
       "      <th>...</th>\n",
       "      <td>...</td>\n",
       "      <td>...</td>\n",
       "    </tr>\n",
       "    <tr>\n",
       "      <th>349</th>\n",
       "      <td>1471458381</td>\n",
       "      <td>1</td>\n",
       "    </tr>\n",
       "    <tr>\n",
       "      <th>350</th>\n",
       "      <td>1471496742</td>\n",
       "      <td>1</td>\n",
       "    </tr>\n",
       "    <tr>\n",
       "      <th>351</th>\n",
       "      <td>1474473704</td>\n",
       "      <td>1</td>\n",
       "    </tr>\n",
       "    <tr>\n",
       "      <th>352</th>\n",
       "      <td>1476256851</td>\n",
       "      <td>1</td>\n",
       "    </tr>\n",
       "    <tr>\n",
       "      <th>1007</th>\n",
       "      <td>4283872382</td>\n",
       "      <td>1</td>\n",
       "    </tr>\n",
       "  </tbody>\n",
       "</table>\n",
       "<p>1008 rows × 2 columns</p>\n",
       "</div>"
      ],
      "text/plain": [
       "          userId  orders\n",
       "899   3803269165       5\n",
       "44     199603092       5\n",
       "112    457167155       4\n",
       "416   1738359350       3\n",
       "483   2044997962       3\n",
       "...          ...     ...\n",
       "349   1471458381       1\n",
       "350   1471496742       1\n",
       "351   1474473704       1\n",
       "352   1476256851       1\n",
       "1007  4283872382       1\n",
       "\n",
       "[1008 rows x 2 columns]"
      ]
     },
     "execution_count": 30,
     "metadata": {},
     "output_type": "execute_result"
    }
   ],
   "source": [
    "ordersByUsers = (\n",
    "    df_orders.groupby(\"visitor_id\", as_index=False)\n",
    "    .agg({\"transaction_id\": pd.Series.nunique}))\n",
    "\n",
    "ordersByUsers.columns = [\"userId\", \"orders\"]\n",
    "\n",
    "ordersByUsers.sort_values(by=\"orders\", ascending=False)"
   ]
  },
  {
   "cell_type": "code",
   "execution_count": 31,
   "metadata": {
    "trusted": true
   },
   "outputs": [
    {
     "data": {
      "text/plain": [
       "Text(0.5, 1.0, 'Dispersión del número de pedidos por usuario')"
      ]
     },
     "execution_count": 31,
     "metadata": {},
     "output_type": "execute_result"
    },
    {
     "data": {
      "image/png": "[encoded data removed]",
      "text/plain": [
       "<Figure size 640x480 with 1 Axes>"
      ]
     },
     "metadata": {},
     "output_type": "display_data"
    }
   ],
   "source": [
    "x_values = pd.Series(range(0,len(ordersByUsers)))\n",
    "plt.scatter(x_values, ordersByUsers[\"orders\"], color=\"seagreen\")\n",
    "plt.title(\"Dispersión del número de pedidos por usuario\", color=\"darkgreen\")"
   ]
  },
  {
   "cell_type": "markdown",
   "metadata": {},
   "source": [
    "La mayoría de los datos se concentra en solo un pedido. Esta cantidad va disminuyenndo considerablemente, siendo solo el máximo de pedidos solo cinco. "
   ]
  },
  {
   "cell_type": "markdown",
   "metadata": {},
   "source": [
    "- Calcula los percentiles 95 y 99 del número de pedidos por usuario. Define el punto en el cual un punto de datos se convierte en una anomalía."
   ]
  },
  {
   "cell_type": "code",
   "execution_count": 32,
   "metadata": {
    "trusted": true
   },
   "outputs": [
    {
     "name": "stdout",
     "output_type": "stream",
     "text": [
      "No más del 5% de los pedidos fueron de: 2.0\n",
      "No más del 1% de los pedidos fueron de: 3.0\n"
     ]
    }
   ],
   "source": [
    "orders_95per = np.percentile(ordersByUsers[\"orders\"], 95)\n",
    "orders_99per = np.percentile(ordersByUsers[\"orders\"], 99)\n",
    "print(f\"No más del 5% de los pedidos fueron de: {orders_95per}\")\n",
    "print(f\"No más del 1% de los pedidos fueron de: {orders_99per}\")"
   ]
  },
  {
   "cell_type": "markdown",
   "metadata": {},
   "source": [
    "- Traza un gráfico de dispersión de los precios de los pedidos. Haz conclusiones y conjeturas."
   ]
  },
  {
   "cell_type": "code",
   "execution_count": 33,
   "metadata": {
    "trusted": true
   },
   "outputs": [
    {
     "data": {
      "text/plain": [
       "Text(0.5, 1.0, 'Dispersión de los precios de los pedidos')"
      ]
     },
     "execution_count": 33,
     "metadata": {},
     "output_type": "execute_result"
    },
    {
     "data": {
      "image/png": "[encoded data removed]",
      "text/plain": [
       "<Figure size 640x480 with 1 Axes>"
      ]
     },
     "metadata": {},
     "output_type": "display_data"
    }
   ],
   "source": [
    "x_values = pd.Series(range(0, len(df_orders[\"revenue\"])))\n",
    "plt.scatter(x_values, df_orders[\"revenue\"], color=\"chocolate\")\n",
    "plt.title(\"Dispersión de los precios de los pedidos\", color=\"sienna\")"
   ]
  },
  {
   "cell_type": "markdown",
   "metadata": {},
   "source": [
    "Los precios de los pedidos se concentran en menos de 2,000, con solo muy pocos datos atípicos de pedidos por 20,000. "
   ]
  },
  {
   "cell_type": "markdown",
   "metadata": {},
   "source": [
    "- Calcula los percentiles 95 y 99 de los precios de los pedidos. Define el punto en el cual un punto de datos se convierte en una anomalía."
   ]
  },
  {
   "cell_type": "code",
   "execution_count": 34,
   "metadata": {
    "trusted": true
   },
   "outputs": [
    {
     "name": "stdout",
     "output_type": "stream",
     "text": [
      "No más del 5% de los pedidos fueron de: 419.13999999999874\n",
      "No más del 1% de los pedidos fueron de: 830.0100000000002\n"
     ]
    }
   ],
   "source": [
    "revenue_95per = np.percentile(df_orders[\"revenue\"], 95)\n",
    "revenue_99per = np.percentile(df_orders[\"revenue\"], 99)\n",
    "print(f\"No más del 5% de los pedidos fueron de: {revenue_95per}\")\n",
    "print(f\"No más del 1% de los pedidos fueron de: {revenue_99per}\")"
   ]
  },
  {
   "cell_type": "markdown",
   "metadata": {},
   "source": [
    "- Encuentra la significancia estadística de la diferencia en la conversión entre los grupos utilizando los datos en bruto. Haz conclusiones y conjeturas."
   ]
  },
  {
   "cell_type": "code",
   "execution_count": 35,
   "metadata": {
    "trusted": true
   },
   "outputs": [],
   "source": [
    "ordersByUsersA = df_orders[df_orders[\"group\"] == \"A\"].groupby(\"visitor_id\", as_index=False).agg({\"transaction_id\" : pd.Series.nunique})\n",
    "ordersByUsersA.columns = [\"userId\", \"orders\"]\n",
    "ordersByUsersB = df_orders[df_orders[\"group\"] == \"B\"].groupby(\"visitor_id\", as_index=False).agg({\"transaction_id\" : pd.Series.nunique})\n",
    "ordersByUsersB.columns = [\"userId\", \"orders\"]"
   ]
  },
  {
   "cell_type": "code",
   "execution_count": 36,
   "metadata": {
    "trusted": true
   },
   "outputs": [
    {
     "data": {
      "text/plain": [
       "0        0\n",
       "1        0\n",
       "2        0\n",
       "3        0\n",
       "4        0\n",
       "        ..\n",
       "18251    0\n",
       "18252    0\n",
       "18253    0\n",
       "18254    0\n",
       "18255    0\n",
       "Name: orders, Length: 18256, dtype: int64"
      ]
     },
     "execution_count": 36,
     "metadata": {},
     "output_type": "execute_result"
    }
   ],
   "source": [
    "pd.Series(0, index=np.arange(df_visits[df_visits[\"group\"] == \"A\"][\"visits\"].sum() - \n",
    "                             len(ordersByUsersA[\"orders\"])), name=\"orders\")"
   ]
  },
  {
   "cell_type": "code",
   "execution_count": 37,
   "metadata": {
    "trusted": true
   },
   "outputs": [
    {
     "data": {
      "text/plain": [
       "[0      1\n",
       " 1      1\n",
       " 2      1\n",
       " 3      1\n",
       " 4      1\n",
       "       ..\n",
       " 475    1\n",
       " 476    1\n",
       " 477    1\n",
       " 478    1\n",
       " 479    1\n",
       " Name: orders, Length: 480, dtype: int64,\n",
       " 0        0\n",
       " 1        0\n",
       " 2        0\n",
       " 3        0\n",
       " 4        0\n",
       "         ..\n",
       " 18251    0\n",
       " 18252    0\n",
       " 18253    0\n",
       " 18254    0\n",
       " 18255    0\n",
       " Name: orders, Length: 18256, dtype: int64]"
      ]
     },
     "execution_count": 37,
     "metadata": {},
     "output_type": "execute_result"
    }
   ],
   "source": [
    "[ordersByUsersA['orders'],pd.Series(0, index=np.arange(df_visits[df_visits['group']=='A']['visits'].sum() - \n",
    "                                                       len(ordersByUsersA['orders'])), name='orders')]"
   ]
  },
  {
   "cell_type": "code",
   "execution_count": 38,
   "metadata": {
    "trusted": true
   },
   "outputs": [],
   "source": [
    "sampleA = pd.concat([ordersByUsersA[\"orders\"], pd.Series(0, index=np.arange(df_visits[df_visits[\"group\"] == \"A\"][\"visits\"].sum() - len(ordersByUsersA[\"orders\"])), name=\"orders\")], axis=0)\n",
    "sampleB = pd.concat([ordersByUsersB[\"orders\"], pd.Series(0, index=np.arange(df_visits[df_visits[\"group\"] == \"B\"][\"visits\"].sum() - len(ordersByUsersB[\"orders\"])), name=\"orders\")], axis=0)\n"
   ]
  },
  {
   "cell_type": "code",
   "execution_count": 39,
   "metadata": {
    "trusted": true
   },
   "outputs": [
    {
     "name": "stdout",
     "output_type": "stream",
     "text": [
      "0.014\n"
     ]
    }
   ],
   "source": [
    "print(\"{0:.3f}\".format(stats.mannwhitneyu(sampleA, sampleB)[1]))"
   ]
  },
  {
   "cell_type": "markdown",
   "metadata": {},
   "source": [
    "A partir de los datos brutos, la diferencia de la conversión entre los grupos es de 0.014, por lo tanto, sí hay una diferencia entre los grupos A y B. Esto se puede demostrar en la gráfica de la tasa de conversión en donde el grupo B mostró una mayor efectividad en la conversión. "
   ]
  },
  {
   "cell_type": "markdown",
   "metadata": {},
   "source": [
    "- Encuentra la significancia estadística de la diferencia en el tamaño promedio de pedido entre los grupos utilizando los datos en bruto. Haz conclusiones y conjeturas."
   ]
  },
  {
   "cell_type": "code",
   "execution_count": 40,
   "metadata": {
    "trusted": true
   },
   "outputs": [
    {
     "name": "stdout",
     "output_type": "stream",
     "text": [
      "0.653\n"
     ]
    }
   ],
   "source": [
    "print(\"{0:.3f}\".format(stats.mannwhitneyu(df_orders[df_orders[\"group\"] == \"A\"][\"revenue\"], \n",
    "                                          df_orders[df_orders[\"group\"] == \"B\"][\"revenue\"])[1]))"
   ]
  },
  {
   "cell_type": "markdown",
   "metadata": {},
   "source": [
    "A partir de los datos brutos, la salida del valor p es de 0.653, por lo tanto en cuanto al promedio de pedidos no es significativa entre ambos grupos. "
   ]
  },
  {
   "cell_type": "markdown",
   "metadata": {},
   "source": [
    "- Encuentra la significancia estadística de la diferencia en la conversión entre los grupos utilizando los datos filtrados. Haz conclusiones y conjeturas."
   ]
  },
  {
   "cell_type": "code",
   "execution_count": 41,
   "metadata": {
    "trusted": true
   },
   "outputs": [
    {
     "name": "stdout",
     "output_type": "stream",
     "text": [
      "El número de usuarios anómalos es de: (66,)\n"
     ]
    }
   ],
   "source": [
    "usersWithManyOrders = pd.concat([ordersByUsersA[ordersByUsersA[\"orders\"] > 2][\"userId\"], ordersByUsersB[ordersByUsersB[\"orders\"] > 2][\"userId\"]], axis=0)\n",
    "usersWithExpensiveOrders = df_orders[df_orders[\"revenue\"] > 420][\"visitor_id\"]\n",
    "abnormalUsers = pd.concat([usersWithManyOrders, usersWithExpensiveOrders], axis=0).drop_duplicates().sort_values()\n",
    "\n",
    "print(f\"El número de usuarios anómalos es de: {abnormalUsers.shape}\")"
   ]
  },
  {
   "cell_type": "code",
   "execution_count": 42,
   "metadata": {
    "trusted": true
   },
   "outputs": [
    {
     "name": "stdout",
     "output_type": "stream",
     "text": [
      "0.015\n"
     ]
    }
   ],
   "source": [
    "sampleAFiltered = pd.concat([ordersByUsersA[np.logical_not(ordersByUsersA[\"userId\"].isin(abnormalUsers))][\"orders\"], pd.Series(0, index=np.arange(df_visits[df_visits[\"group\"] == \"A\"][\"visits\"].sum() - len(ordersByUsersA[\"orders\"])), name=\"orders\")], axis=0)\n",
    "sampleBFiltered = pd.concat([ordersByUsersB[np.logical_not(ordersByUsersB[\"userId\"].isin(abnormalUsers))][\"orders\"], pd.Series(0, index=np.arange(df_visits[df_visits[\"group\"] == \"B\"][\"visits\"].sum() - len(ordersByUsersB[\"orders\"])), name=\"orders\")], axis=0)\n",
    "\n",
    "print(\"{0:.3f}\".format(stats.mannwhitneyu(sampleAFiltered, sampleBFiltered)[1]))\n",
    "\n"
   ]
  },
  {
   "cell_type": "markdown",
   "metadata": {},
   "source": [
    "Para los datos filtrados, la diferencia no es considerable comparada con la de los datos brutos. Por lo que aún se eude concluir que la tasa de conversión del grupo B es diferente a la del grupo A. "
   ]
  },
  {
   "cell_type": "markdown",
   "metadata": {},
   "source": [
    "- Encuentra la significancia estadística de la diferencia en el tamaño promedio de pedido entre los grupos utilizando los datos filtrados. Haz conclusiones y conjeturas."
   ]
  },
  {
   "cell_type": "code",
   "execution_count": 43,
   "metadata": {
    "trusted": true
   },
   "outputs": [
    {
     "name": "stdout",
     "output_type": "stream",
     "text": [
      "0.576\n"
     ]
    }
   ],
   "source": [
    "print(\"{0:.3f}\".format(stats.mannwhitneyu(\n",
    "                        df_orders[np.logical_and(\n",
    "                        df_orders[\"group\"] == \"A\", np.logical_not(df_orders[\"visitor_id\"].isin(abnormalUsers)))][\"revenue\"],  \n",
    "                        df_orders[np.logical_and(df_orders[\"group\"] == \"B\",  \n",
    "                        np.logical_not(df_orders[\"visitor_id\"].isin(abnormalUsers)))][\"revenue\"])[1])) \n"
   ]
  },
  {
   "cell_type": "markdown",
   "metadata": {},
   "source": [
    "A partir de los datos filtrados, disminuye un poco la diferencia del promedio de pedidos entre ambos grupos. Sin embargo, aún se concluye que no es significativa dicha diferencia. "
   ]
  },
  {
   "cell_type": "markdown",
   "metadata": {},
   "source": [
    "- Toma una decisión basada en los resultados de la prueba. Las decisiones posibles son: \n",
    "   - 1. Parar la prueba, considerar a uno de los grupos como líder. \n",
    "   - 2. Parar la prueba, concluir que no hay diferencia entre los grupos. \n",
    "   - 3. Continuar la prueba."
   ]
  },
  {
   "cell_type": "markdown",
   "metadata": {},
   "source": [
    "Se optaría por la decisión 3 en cuanto a que no hay una diferencia entre la cantidad de pedidos del grupo A y B. Esto debido a que a pesar de que la tasa de conversión muestra una diferencia significativa, al revisar la significancia estadística en cuanto al promedio de pedidos no se demuestran diferencia entre ambos grupos. Igualmente el valor de p con datos brutos y filtrados nos muestra que no hay una diferencia entre ambos grupos. \n",
    "\n",
    "Por lo tanto, aunque hay una mayor tasa de conversión en el grupo A, la cantidad absoluta de pedidos no varía de manera significativa entre ambos grupos. Esto puede sugerir que otros factores, como el valor del pedido o la frecuencia de compra, podrían influir son en la variable de conversión, pero no necesariamente en el número total de pedidos."
   ]
  }
 ],
 "metadata": {
  "ExecuteTimeLog": [
   {
    "duration": 2720,
    "start_time": "2025-03-10T01:56:04.511Z"
   },
   {
    "duration": 10,
    "start_time": "2025-03-10T01:56:52.834Z"
   },
   {
    "duration": 26,
    "start_time": "2025-03-10T01:57:51.078Z"
   },
   {
    "duration": 9,
    "start_time": "2025-03-10T01:58:03.287Z"
   },
   {
    "duration": 9,
    "start_time": "2025-03-10T01:58:09.363Z"
   },
   {
    "duration": 6,
    "start_time": "2025-03-10T01:58:20.396Z"
   },
   {
    "duration": 10,
    "start_time": "2025-03-10T02:01:50.265Z"
   },
   {
    "duration": 8,
    "start_time": "2025-03-10T02:01:56.977Z"
   },
   {
    "duration": 10,
    "start_time": "2025-03-10T02:02:09.868Z"
   },
   {
    "duration": 5,
    "start_time": "2025-03-10T02:02:45.182Z"
   },
   {
    "duration": 11,
    "start_time": "2025-03-10T02:02:56.958Z"
   },
   {
    "duration": 8,
    "start_time": "2025-03-10T02:03:09.840Z"
   },
   {
    "duration": 5,
    "start_time": "2025-03-10T02:03:25.067Z"
   },
   {
    "duration": 9,
    "start_time": "2025-03-10T02:03:28.484Z"
   },
   {
    "duration": 4,
    "start_time": "2025-03-10T02:03:52.267Z"
   },
   {
    "duration": 8,
    "start_time": "2025-03-10T02:03:58.471Z"
   },
   {
    "duration": 11,
    "start_time": "2025-03-10T02:19:13.946Z"
   },
   {
    "duration": 4,
    "start_time": "2025-03-10T02:22:41.286Z"
   },
   {
    "duration": 4,
    "start_time": "2025-03-10T02:22:51.736Z"
   },
   {
    "duration": 9,
    "start_time": "2025-03-10T02:23:01.744Z"
   },
   {
    "duration": 12,
    "start_time": "2025-03-10T02:24:47.131Z"
   },
   {
    "duration": 11,
    "start_time": "2025-03-10T02:24:57.507Z"
   },
   {
    "duration": 9,
    "start_time": "2025-03-10T02:24:59.011Z"
   },
   {
    "duration": 11,
    "start_time": "2025-03-10T02:25:03.478Z"
   },
   {
    "duration": 903,
    "start_time": "2025-03-10T02:25:12.244Z"
   },
   {
    "duration": 12,
    "start_time": "2025-03-10T02:25:13.150Z"
   },
   {
    "duration": 7,
    "start_time": "2025-03-10T02:25:13.164Z"
   },
   {
    "duration": 8,
    "start_time": "2025-03-10T02:25:13.173Z"
   },
   {
    "duration": 8,
    "start_time": "2025-03-10T02:25:13.183Z"
   },
   {
    "duration": 33,
    "start_time": "2025-03-10T02:25:13.193Z"
   },
   {
    "duration": 4,
    "start_time": "2025-03-10T02:25:13.228Z"
   },
   {
    "duration": 9,
    "start_time": "2025-03-10T02:25:13.234Z"
   },
   {
    "duration": 8,
    "start_time": "2025-03-10T02:25:13.245Z"
   },
   {
    "duration": 8,
    "start_time": "2025-03-10T02:25:13.255Z"
   },
   {
    "duration": 7,
    "start_time": "2025-03-10T02:25:13.265Z"
   },
   {
    "duration": 8,
    "start_time": "2025-03-10T02:25:13.273Z"
   },
   {
    "duration": 3,
    "start_time": "2025-03-10T02:25:13.283Z"
   },
   {
    "duration": 8,
    "start_time": "2025-03-10T02:25:13.324Z"
   },
   {
    "duration": 3,
    "start_time": "2025-03-10T02:25:39.511Z"
   },
   {
    "duration": 10,
    "start_time": "2025-03-10T02:25:40.234Z"
   },
   {
    "duration": 11,
    "start_time": "2025-03-10T02:27:30.876Z"
   },
   {
    "duration": 8,
    "start_time": "2025-03-10T02:27:31.490Z"
   },
   {
    "duration": 9,
    "start_time": "2025-03-10T02:27:32.321Z"
   },
   {
    "duration": 6,
    "start_time": "2025-03-10T02:30:34.172Z"
   },
   {
    "duration": 239,
    "start_time": "2025-03-10T02:31:42.370Z"
   },
   {
    "duration": 17,
    "start_time": "2025-03-10T02:31:54.652Z"
   },
   {
    "duration": 15,
    "start_time": "2025-03-10T02:33:27.583Z"
   },
   {
    "duration": 3,
    "start_time": "2025-03-10T02:33:38.868Z"
   },
   {
    "duration": 7,
    "start_time": "2025-03-10T02:33:49.628Z"
   },
   {
    "duration": 7,
    "start_time": "2025-03-10T02:33:54.733Z"
   },
   {
    "duration": 15,
    "start_time": "2025-03-10T02:45:40.104Z"
   },
   {
    "duration": 10,
    "start_time": "2025-03-10T02:45:46.669Z"
   },
   {
    "duration": 8,
    "start_time": "2025-03-10T02:45:57.461Z"
   },
   {
    "duration": 452,
    "start_time": "2025-03-10T02:46:40.009Z"
   },
   {
    "duration": 6,
    "start_time": "2025-03-10T02:46:52.549Z"
   },
   {
    "duration": 8,
    "start_time": "2025-03-10T02:47:09.021Z"
   },
   {
    "duration": 22,
    "start_time": "2025-03-10T02:47:58.777Z"
   },
   {
    "duration": 9,
    "start_time": "2025-03-10T02:48:07.861Z"
   },
   {
    "duration": 4,
    "start_time": "2025-03-10T02:49:59.583Z"
   },
   {
    "duration": 8,
    "start_time": "2025-03-10T02:50:14.958Z"
   },
   {
    "duration": 9,
    "start_time": "2025-03-10T02:50:17.459Z"
   },
   {
    "duration": 118,
    "start_time": "2025-03-10T03:06:50.533Z"
   },
   {
    "duration": 4,
    "start_time": "2025-03-10T03:06:57.359Z"
   },
   {
    "duration": 7,
    "start_time": "2025-03-10T03:07:09.781Z"
   },
   {
    "duration": 11,
    "start_time": "2025-03-10T03:17:12.881Z"
   },
   {
    "duration": 989,
    "start_time": "2025-03-10T03:17:30.577Z"
   },
   {
    "duration": 13,
    "start_time": "2025-03-10T03:17:31.569Z"
   },
   {
    "duration": 9,
    "start_time": "2025-03-10T03:17:31.584Z"
   },
   {
    "duration": 9,
    "start_time": "2025-03-10T03:17:31.595Z"
   },
   {
    "duration": 19,
    "start_time": "2025-03-10T03:17:31.607Z"
   },
   {
    "duration": 8,
    "start_time": "2025-03-10T03:17:31.628Z"
   },
   {
    "duration": 9,
    "start_time": "2025-03-10T03:17:31.637Z"
   },
   {
    "duration": 10,
    "start_time": "2025-03-10T03:17:31.648Z"
   },
   {
    "duration": 5,
    "start_time": "2025-03-10T03:17:31.660Z"
   },
   {
    "duration": 4,
    "start_time": "2025-03-10T03:17:31.666Z"
   },
   {
    "duration": 11,
    "start_time": "2025-03-10T03:17:31.672Z"
   },
   {
    "duration": 48,
    "start_time": "2025-03-10T03:17:31.685Z"
   },
   {
    "duration": 9,
    "start_time": "2025-03-10T03:17:31.734Z"
   },
   {
    "duration": 8,
    "start_time": "2025-03-10T03:17:31.747Z"
   },
   {
    "duration": 4,
    "start_time": "2025-03-10T03:17:31.757Z"
   },
   {
    "duration": 8,
    "start_time": "2025-03-10T03:17:31.762Z"
   },
   {
    "duration": 5,
    "start_time": "2025-03-10T03:17:31.772Z"
   },
   {
    "duration": 9,
    "start_time": "2025-03-10T03:17:31.778Z"
   },
   {
    "duration": 10,
    "start_time": "2025-03-10T03:17:31.824Z"
   },
   {
    "duration": 14,
    "start_time": "2025-03-10T03:17:31.836Z"
   },
   {
    "duration": 118,
    "start_time": "2025-03-10T03:17:57.399Z"
   },
   {
    "duration": 10,
    "start_time": "2025-03-10T03:18:13.993Z"
   },
   {
    "duration": 245,
    "start_time": "2025-03-10T03:23:55.913Z"
   },
   {
    "duration": 344,
    "start_time": "2025-03-10T03:26:37.544Z"
   },
   {
    "duration": 15,
    "start_time": "2025-03-10T03:27:02.852Z"
   },
   {
    "duration": 7412,
    "start_time": "2025-03-10T03:27:19.773Z"
   },
   {
    "duration": 11513,
    "start_time": "2025-03-10T03:27:46.615Z"
   },
   {
    "duration": 2630,
    "start_time": "2025-03-10T18:53:40.725Z"
   },
   {
    "duration": 24,
    "start_time": "2025-03-10T18:53:43.357Z"
   },
   {
    "duration": 12,
    "start_time": "2025-03-10T18:53:43.382Z"
   },
   {
    "duration": 8,
    "start_time": "2025-03-10T18:53:43.397Z"
   },
   {
    "duration": 2,
    "start_time": "2025-03-10T18:53:43.407Z"
   },
   {
    "duration": 8,
    "start_time": "2025-03-10T18:53:43.411Z"
   },
   {
    "duration": 8,
    "start_time": "2025-03-10T18:53:43.420Z"
   },
   {
    "duration": 11,
    "start_time": "2025-03-10T18:53:43.429Z"
   },
   {
    "duration": 29,
    "start_time": "2025-03-10T18:53:43.442Z"
   },
   {
    "duration": 4,
    "start_time": "2025-03-10T18:53:43.474Z"
   },
   {
    "duration": 9,
    "start_time": "2025-03-10T18:53:43.479Z"
   },
   {
    "duration": 7,
    "start_time": "2025-03-10T18:53:43.490Z"
   },
   {
    "duration": 8,
    "start_time": "2025-03-10T18:53:43.499Z"
   },
   {
    "duration": 8,
    "start_time": "2025-03-10T18:53:43.508Z"
   },
   {
    "duration": 3,
    "start_time": "2025-03-10T18:53:43.517Z"
   },
   {
    "duration": 7,
    "start_time": "2025-03-10T18:53:43.522Z"
   },
   {
    "duration": 44,
    "start_time": "2025-03-10T18:53:43.530Z"
   },
   {
    "duration": 8,
    "start_time": "2025-03-10T18:53:43.576Z"
   },
   {
    "duration": 8,
    "start_time": "2025-03-10T18:53:43.586Z"
   },
   {
    "duration": 9,
    "start_time": "2025-03-10T18:53:43.595Z"
   },
   {
    "duration": 5,
    "start_time": "2025-03-10T19:13:45.109Z"
   },
   {
    "duration": 13,
    "start_time": "2025-03-10T19:13:49.353Z"
   },
   {
    "duration": 5,
    "start_time": "2025-03-10T19:15:22.737Z"
   },
   {
    "duration": 309,
    "start_time": "2025-03-10T19:15:35.644Z"
   },
   {
    "duration": 5,
    "start_time": "2025-03-10T19:15:46.691Z"
   },
   {
    "duration": 4,
    "start_time": "2025-03-10T19:15:49.243Z"
   },
   {
    "duration": 2,
    "start_time": "2025-03-10T19:16:53.967Z"
   },
   {
    "duration": 11,
    "start_time": "2025-03-10T19:16:57.479Z"
   },
   {
    "duration": 12,
    "start_time": "2025-03-10T19:17:08.395Z"
   },
   {
    "duration": 911,
    "start_time": "2025-03-10T19:17:32.248Z"
   },
   {
    "duration": 15,
    "start_time": "2025-03-10T19:17:33.169Z"
   },
   {
    "duration": 9,
    "start_time": "2025-03-10T19:17:33.185Z"
   },
   {
    "duration": 9,
    "start_time": "2025-03-10T19:17:33.195Z"
   },
   {
    "duration": 3,
    "start_time": "2025-03-10T19:17:33.206Z"
   },
   {
    "duration": 9,
    "start_time": "2025-03-10T19:17:33.210Z"
   },
   {
    "duration": 9,
    "start_time": "2025-03-10T19:17:33.221Z"
   },
   {
    "duration": 10,
    "start_time": "2025-03-10T19:17:33.232Z"
   },
   {
    "duration": 5,
    "start_time": "2025-03-10T19:17:33.270Z"
   },
   {
    "duration": 4,
    "start_time": "2025-03-10T19:17:33.276Z"
   },
   {
    "duration": 10,
    "start_time": "2025-03-10T19:17:33.281Z"
   },
   {
    "duration": 8,
    "start_time": "2025-03-10T19:17:33.293Z"
   },
   {
    "duration": 8,
    "start_time": "2025-03-10T19:17:33.302Z"
   },
   {
    "duration": 7,
    "start_time": "2025-03-10T19:17:33.312Z"
   },
   {
    "duration": 3,
    "start_time": "2025-03-10T19:17:33.321Z"
   },
   {
    "duration": 44,
    "start_time": "2025-03-10T19:17:33.326Z"
   },
   {
    "duration": 2,
    "start_time": "2025-03-10T19:17:33.372Z"
   },
   {
    "duration": 5,
    "start_time": "2025-03-10T19:17:33.376Z"
   },
   {
    "duration": 9,
    "start_time": "2025-03-10T19:17:33.383Z"
   },
   {
    "duration": 8,
    "start_time": "2025-03-10T19:17:33.393Z"
   },
   {
    "duration": 9,
    "start_time": "2025-03-10T19:17:33.402Z"
   },
   {
    "duration": 14,
    "start_time": "2025-03-10T19:19:22.473Z"
   },
   {
    "duration": 154,
    "start_time": "2025-03-10T19:20:12.496Z"
   },
   {
    "duration": 6,
    "start_time": "2025-03-10T19:21:33.242Z"
   },
   {
    "duration": 12,
    "start_time": "2025-03-10T19:21:38.371Z"
   },
   {
    "duration": 130,
    "start_time": "2025-03-10T19:21:54.087Z"
   },
   {
    "duration": 21,
    "start_time": "2025-03-10T19:25:19.082Z"
   },
   {
    "duration": 158,
    "start_time": "2025-03-10T19:26:14.175Z"
   },
   {
    "duration": 161,
    "start_time": "2025-03-10T19:28:28.334Z"
   },
   {
    "duration": 6,
    "start_time": "2025-03-10T19:36:16.496Z"
   },
   {
    "duration": 159,
    "start_time": "2025-03-10T19:36:20.607Z"
   },
   {
    "duration": 4,
    "start_time": "2025-03-10T19:36:41.633Z"
   },
   {
    "duration": 1570,
    "start_time": "2025-03-10T19:36:44.881Z"
   },
   {
    "duration": 619,
    "start_time": "2025-03-10T19:37:05.506Z"
   },
   {
    "duration": 364,
    "start_time": "2025-03-10T19:37:21.587Z"
   },
   {
    "duration": 201,
    "start_time": "2025-03-10T19:37:35.378Z"
   },
   {
    "duration": 162,
    "start_time": "2025-03-10T19:37:46.824Z"
   },
   {
    "duration": 228,
    "start_time": "2025-03-10T19:37:54.894Z"
   },
   {
    "duration": 169,
    "start_time": "2025-03-10T19:38:02.227Z"
   },
   {
    "duration": 11,
    "start_time": "2025-03-10T19:47:29.445Z"
   },
   {
    "duration": 9,
    "start_time": "2025-03-10T19:47:41.453Z"
   },
   {
    "duration": 12,
    "start_time": "2025-03-10T19:47:59.124Z"
   },
   {
    "duration": 6,
    "start_time": "2025-03-10T19:50:06.298Z"
   },
   {
    "duration": 8,
    "start_time": "2025-03-10T19:58:20.980Z"
   },
   {
    "duration": 17,
    "start_time": "2025-03-10T20:00:08.483Z"
   },
   {
    "duration": 641,
    "start_time": "2025-03-10T20:00:53.234Z"
   },
   {
    "duration": 17,
    "start_time": "2025-03-10T20:06:05.532Z"
   },
   {
    "duration": 18,
    "start_time": "2025-03-10T20:06:30.804Z"
   },
   {
    "duration": 15,
    "start_time": "2025-03-10T20:08:29.802Z"
   },
   {
    "duration": 15,
    "start_time": "2025-03-10T20:14:33.102Z"
   },
   {
    "duration": 17,
    "start_time": "2025-03-10T20:24:23.768Z"
   },
   {
    "duration": 13,
    "start_time": "2025-03-10T20:24:43.283Z"
   },
   {
    "duration": 5,
    "start_time": "2025-03-10T20:27:40.209Z"
   },
   {
    "duration": 13,
    "start_time": "2025-03-10T20:28:20.501Z"
   },
   {
    "duration": 13,
    "start_time": "2025-03-10T20:28:24.513Z"
   },
   {
    "duration": 4,
    "start_time": "2025-03-10T20:28:30.243Z"
   },
   {
    "duration": 5,
    "start_time": "2025-03-10T20:30:44.594Z"
   },
   {
    "duration": 18,
    "start_time": "2025-03-10T20:31:38.268Z"
   },
   {
    "duration": 15,
    "start_time": "2025-03-10T20:31:51.729Z"
   },
   {
    "duration": 15,
    "start_time": "2025-03-10T20:32:11.290Z"
   },
   {
    "duration": 5,
    "start_time": "2025-03-10T20:32:21.518Z"
   },
   {
    "duration": 9,
    "start_time": "2025-03-10T20:33:07.134Z"
   },
   {
    "duration": 9,
    "start_time": "2025-03-10T20:36:16.452Z"
   },
   {
    "duration": 4,
    "start_time": "2025-03-10T20:37:05.093Z"
   },
   {
    "duration": 17,
    "start_time": "2025-03-10T20:37:14.271Z"
   },
   {
    "duration": 9,
    "start_time": "2025-03-10T20:37:33.978Z"
   },
   {
    "duration": 7,
    "start_time": "2025-03-10T20:38:46.009Z"
   },
   {
    "duration": 9,
    "start_time": "2025-03-10T20:38:58.611Z"
   },
   {
    "duration": 9,
    "start_time": "2025-03-10T20:39:09.724Z"
   },
   {
    "duration": 11,
    "start_time": "2025-03-10T20:39:52.945Z"
   },
   {
    "duration": 12,
    "start_time": "2025-03-10T20:59:12.180Z"
   },
   {
    "duration": 10,
    "start_time": "2025-03-10T20:59:22.538Z"
   },
   {
    "duration": 13,
    "start_time": "2025-03-10T20:59:29.652Z"
   },
   {
    "duration": 159,
    "start_time": "2025-03-10T20:59:30.495Z"
   },
   {
    "duration": 161,
    "start_time": "2025-03-10T20:59:31.888Z"
   },
   {
    "duration": 3,
    "start_time": "2025-03-10T20:59:33.217Z"
   },
   {
    "duration": 3,
    "start_time": "2025-03-10T20:59:33.657Z"
   },
   {
    "duration": 8,
    "start_time": "2025-03-10T20:59:34.248Z"
   },
   {
    "duration": 8,
    "start_time": "2025-03-10T20:59:34.775Z"
   },
   {
    "duration": 16,
    "start_time": "2025-03-10T20:59:35.474Z"
   },
   {
    "duration": 4,
    "start_time": "2025-03-10T20:59:36.098Z"
   },
   {
    "duration": 4,
    "start_time": "2025-03-10T21:17:52.100Z"
   },
   {
    "duration": 9,
    "start_time": "2025-03-10T21:18:01.244Z"
   },
   {
    "duration": 11,
    "start_time": "2025-03-10T21:18:44.327Z"
   },
   {
    "duration": 2710,
    "start_time": "2025-03-11T03:53:44.941Z"
   },
   {
    "duration": 23,
    "start_time": "2025-03-11T03:53:47.654Z"
   },
   {
    "duration": 8,
    "start_time": "2025-03-11T03:53:47.679Z"
   },
   {
    "duration": 8,
    "start_time": "2025-03-11T03:53:47.689Z"
   },
   {
    "duration": 2,
    "start_time": "2025-03-11T03:53:47.700Z"
   },
   {
    "duration": 6,
    "start_time": "2025-03-11T03:53:47.704Z"
   },
   {
    "duration": 9,
    "start_time": "2025-03-11T03:53:47.711Z"
   },
   {
    "duration": 10,
    "start_time": "2025-03-11T03:53:47.721Z"
   },
   {
    "duration": 5,
    "start_time": "2025-03-11T03:53:47.732Z"
   },
   {
    "duration": 34,
    "start_time": "2025-03-11T03:53:47.738Z"
   },
   {
    "duration": 10,
    "start_time": "2025-03-11T03:53:47.774Z"
   },
   {
    "duration": 8,
    "start_time": "2025-03-11T03:53:47.786Z"
   },
   {
    "duration": 8,
    "start_time": "2025-03-11T03:53:47.795Z"
   },
   {
    "duration": 7,
    "start_time": "2025-03-11T03:53:47.807Z"
   },
   {
    "duration": 4,
    "start_time": "2025-03-11T03:53:47.815Z"
   },
   {
    "duration": 8,
    "start_time": "2025-03-11T03:53:47.820Z"
   },
   {
    "duration": 2,
    "start_time": "2025-03-11T03:53:47.830Z"
   },
   {
    "duration": 5,
    "start_time": "2025-03-11T03:53:47.870Z"
   },
   {
    "duration": 8,
    "start_time": "2025-03-11T03:53:47.877Z"
   },
   {
    "duration": 9,
    "start_time": "2025-03-11T03:53:47.887Z"
   },
   {
    "duration": 11,
    "start_time": "2025-03-11T03:53:47.897Z"
   },
   {
    "duration": 10,
    "start_time": "2025-03-11T03:53:47.909Z"
   },
   {
    "duration": 8,
    "start_time": "2025-03-11T03:53:47.920Z"
   },
   {
    "duration": 52,
    "start_time": "2025-03-11T03:53:47.929Z"
   },
   {
    "duration": 193,
    "start_time": "2025-03-11T03:53:47.985Z"
   },
   {
    "duration": 198,
    "start_time": "2025-03-11T03:53:48.180Z"
   },
   {
    "duration": 9,
    "start_time": "2025-03-11T03:53:48.381Z"
   },
   {
    "duration": 3,
    "start_time": "2025-03-11T03:53:48.392Z"
   },
   {
    "duration": 8,
    "start_time": "2025-03-11T03:53:48.396Z"
   },
   {
    "duration": 9,
    "start_time": "2025-03-11T03:53:48.405Z"
   },
   {
    "duration": 14,
    "start_time": "2025-03-11T03:53:48.415Z"
   },
   {
    "duration": 2,
    "start_time": "2025-03-11T03:53:48.431Z"
   },
   {
    "duration": 11,
    "start_time": "2025-03-11T03:54:59.347Z"
   },
   {
    "duration": 334,
    "start_time": "2025-03-11T03:55:45.852Z"
   },
   {
    "duration": 236,
    "start_time": "2025-03-11T03:57:20.717Z"
   },
   {
    "duration": 4,
    "start_time": "2025-03-11T04:21:01.631Z"
   },
   {
    "duration": 239,
    "start_time": "2025-03-11T04:23:02.379Z"
   },
   {
    "duration": 145,
    "start_time": "2025-03-11T04:23:19.684Z"
   },
   {
    "duration": 10,
    "start_time": "2025-03-11T04:23:49.554Z"
   },
   {
    "duration": 142,
    "start_time": "2025-03-11T04:25:39.481Z"
   },
   {
    "duration": 9,
    "start_time": "2025-03-11T04:27:07.130Z"
   },
   {
    "duration": 42,
    "start_time": "2025-03-11T04:27:41.035Z"
   },
   {
    "duration": 40,
    "start_time": "2025-03-11T04:28:34.558Z"
   },
   {
    "duration": 4,
    "start_time": "2025-03-11T04:28:41.814Z"
   },
   {
    "duration": 96,
    "start_time": "2025-03-11T04:29:16.739Z"
   },
   {
    "duration": 8,
    "start_time": "2025-03-11T04:29:23.290Z"
   },
   {
    "duration": 5,
    "start_time": "2025-03-11T04:30:05.930Z"
   },
   {
    "duration": 15,
    "start_time": "2025-03-11T04:30:25.019Z"
   },
   {
    "duration": 215,
    "start_time": "2025-03-11T04:31:20.457Z"
   },
   {
    "duration": 205,
    "start_time": "2025-03-11T04:39:00.540Z"
   },
   {
    "duration": 809,
    "start_time": "2025-03-11T04:39:56.147Z"
   },
   {
    "duration": 194,
    "start_time": "2025-03-11T04:40:44.902Z"
   },
   {
    "duration": 141,
    "start_time": "2025-03-11T04:41:06.766Z"
   },
   {
    "duration": 3,
    "start_time": "2025-03-11T04:42:25.046Z"
   },
   {
    "duration": 13,
    "start_time": "2025-03-11T04:42:58.559Z"
   },
   {
    "duration": 11,
    "start_time": "2025-03-11T04:43:56.794Z"
   },
   {
    "duration": 10,
    "start_time": "2025-03-11T04:50:50.169Z"
   },
   {
    "duration": 24,
    "start_time": "2025-03-11T04:51:36.691Z"
   },
   {
    "duration": 11,
    "start_time": "2025-03-11T04:51:53.668Z"
   },
   {
    "duration": 135,
    "start_time": "2025-03-11T04:51:56.446Z"
   },
   {
    "duration": 135,
    "start_time": "2025-03-11T04:52:20.721Z"
   },
   {
    "duration": 142,
    "start_time": "2025-03-11T04:52:41.398Z"
   },
   {
    "duration": 279,
    "start_time": "2025-03-11T05:00:06.229Z"
   },
   {
    "duration": 107,
    "start_time": "2025-03-11T05:00:32.387Z"
   },
   {
    "duration": 6,
    "start_time": "2025-03-11T05:00:43.261Z"
   },
   {
    "duration": 145,
    "start_time": "2025-03-11T05:00:48.647Z"
   },
   {
    "duration": 101,
    "start_time": "2025-03-11T05:01:45.762Z"
   },
   {
    "duration": 5,
    "start_time": "2025-03-11T05:06:27.296Z"
   },
   {
    "duration": 3,
    "start_time": "2025-03-11T05:06:46.752Z"
   },
   {
    "duration": 4,
    "start_time": "2025-03-11T05:07:17.140Z"
   },
   {
    "duration": 104,
    "start_time": "2025-03-11T05:09:10.322Z"
   },
   {
    "duration": 4,
    "start_time": "2025-03-11T05:12:30.394Z"
   },
   {
    "duration": 15,
    "start_time": "2025-03-11T05:12:53.285Z"
   },
   {
    "duration": 3,
    "start_time": "2025-03-11T05:12:59.633Z"
   },
   {
    "duration": 26,
    "start_time": "2025-03-11T05:55:01.829Z"
   },
   {
    "duration": 50,
    "start_time": "2025-03-11T05:55:16.560Z"
   },
   {
    "duration": 105,
    "start_time": "2025-03-11T05:55:30.094Z"
   },
   {
    "duration": 114,
    "start_time": "2025-03-11T05:55:49.102Z"
   },
   {
    "duration": 7,
    "start_time": "2025-03-11T05:58:40.850Z"
   },
   {
    "duration": 9,
    "start_time": "2025-03-11T05:59:12.235Z"
   },
   {
    "duration": 16,
    "start_time": "2025-03-11T05:59:29.486Z"
   },
   {
    "duration": 214,
    "start_time": "2025-03-11T05:59:49.369Z"
   },
   {
    "duration": 7,
    "start_time": "2025-03-11T06:00:07.811Z"
   },
   {
    "duration": 21,
    "start_time": "2025-03-11T06:00:43.517Z"
   },
   {
    "duration": 50,
    "start_time": "2025-03-11T06:00:55.057Z"
   },
   {
    "duration": 16,
    "start_time": "2025-03-11T06:01:34.553Z"
   },
   {
    "duration": 17,
    "start_time": "2025-03-11T06:02:42.761Z"
   },
   {
    "duration": 8,
    "start_time": "2025-03-11T06:03:08.653Z"
   },
   {
    "duration": 2606,
    "start_time": "2025-03-13T04:02:46.168Z"
   },
   {
    "duration": 15,
    "start_time": "2025-03-13T04:02:48.777Z"
   },
   {
    "duration": 9,
    "start_time": "2025-03-13T04:02:48.793Z"
   },
   {
    "duration": 9,
    "start_time": "2025-03-13T04:02:48.803Z"
   },
   {
    "duration": 9,
    "start_time": "2025-03-13T04:02:48.815Z"
   },
   {
    "duration": 7,
    "start_time": "2025-03-13T04:02:48.825Z"
   },
   {
    "duration": 8,
    "start_time": "2025-03-13T04:02:48.834Z"
   },
   {
    "duration": 9,
    "start_time": "2025-03-13T04:02:48.843Z"
   },
   {
    "duration": 3,
    "start_time": "2025-03-13T04:02:48.854Z"
   },
   {
    "duration": 4,
    "start_time": "2025-03-13T04:02:48.859Z"
   },
   {
    "duration": 11,
    "start_time": "2025-03-13T04:02:48.864Z"
   },
   {
    "duration": 47,
    "start_time": "2025-03-13T04:02:48.877Z"
   },
   {
    "duration": 11,
    "start_time": "2025-03-13T04:02:48.925Z"
   },
   {
    "duration": 8,
    "start_time": "2025-03-13T04:02:48.940Z"
   },
   {
    "duration": 3,
    "start_time": "2025-03-13T04:02:48.949Z"
   },
   {
    "duration": 8,
    "start_time": "2025-03-13T04:02:48.954Z"
   },
   {
    "duration": 3,
    "start_time": "2025-03-13T04:02:48.964Z"
   },
   {
    "duration": 5,
    "start_time": "2025-03-13T04:02:48.968Z"
   },
   {
    "duration": 8,
    "start_time": "2025-03-13T04:02:48.974Z"
   },
   {
    "duration": 46,
    "start_time": "2025-03-13T04:02:48.984Z"
   },
   {
    "duration": 10,
    "start_time": "2025-03-13T04:02:49.032Z"
   },
   {
    "duration": 11,
    "start_time": "2025-03-13T04:02:49.044Z"
   },
   {
    "duration": 8,
    "start_time": "2025-03-13T04:02:49.056Z"
   },
   {
    "duration": 10,
    "start_time": "2025-03-13T04:02:49.065Z"
   },
   {
    "duration": 10,
    "start_time": "2025-03-13T04:02:49.076Z"
   },
   {
    "duration": 189,
    "start_time": "2025-03-13T04:02:49.087Z"
   },
   {
    "duration": 10,
    "start_time": "2025-03-13T04:02:49.278Z"
   },
   {
    "duration": 99,
    "start_time": "2025-03-13T04:02:49.290Z"
   },
   {
    "duration": 14,
    "start_time": "2025-03-13T04:02:49.390Z"
   },
   {
    "duration": 160,
    "start_time": "2025-03-13T04:02:49.406Z"
   },
   {
    "duration": 227,
    "start_time": "2025-03-13T04:02:49.567Z"
   },
   {
    "duration": 146,
    "start_time": "2025-03-13T04:02:49.795Z"
   },
   {
    "duration": 123,
    "start_time": "2025-03-13T04:02:49.943Z"
   },
   {
    "duration": 121,
    "start_time": "2025-03-13T04:02:50.067Z"
   },
   {
    "duration": 4,
    "start_time": "2025-03-13T04:02:50.190Z"
   },
   {
    "duration": 174,
    "start_time": "2025-03-13T04:02:50.196Z"
   },
   {
    "duration": 5,
    "start_time": "2025-03-13T04:02:50.372Z"
   },
   {
    "duration": 118,
    "start_time": "2025-03-13T04:02:50.378Z"
   },
   {
    "duration": 6,
    "start_time": "2025-03-13T04:02:50.497Z"
   },
   {
    "duration": 5,
    "start_time": "2025-03-13T04:02:50.505Z"
   },
   {
    "duration": 6,
    "start_time": "2025-03-13T04:02:50.527Z"
   },
   {
    "duration": 16,
    "start_time": "2025-03-13T04:02:50.534Z"
   },
   {
    "duration": 8,
    "start_time": "2025-03-13T04:02:50.552Z"
   },
   {
    "duration": 2,
    "start_time": "2025-03-13T04:02:50.561Z"
   },
   {
    "duration": 242,
    "start_time": "2025-03-13T04:18:49.956Z"
   },
   {
    "duration": 434,
    "start_time": "2025-03-13T04:19:01.429Z"
   },
   {
    "duration": 46,
    "start_time": "2025-03-13T04:19:43.698Z"
   },
   {
    "duration": 7,
    "start_time": "2025-03-13T04:20:07.457Z"
   },
   {
    "duration": 9,
    "start_time": "2025-03-13T04:20:59.606Z"
   },
   {
    "duration": 20,
    "start_time": "2025-03-13T04:21:11.239Z"
   },
   {
    "duration": 50,
    "start_time": "2025-03-13T04:21:45.797Z"
   },
   {
    "duration": 20,
    "start_time": "2025-03-13T04:22:12.022Z"
   },
   {
    "duration": 20,
    "start_time": "2025-03-13T04:25:03.636Z"
   },
   {
    "duration": 21,
    "start_time": "2025-03-13T04:26:40.812Z"
   },
   {
    "duration": 57,
    "start_time": "2025-03-13T04:27:03.822Z"
   },
   {
    "duration": 23,
    "start_time": "2025-03-13T04:27:43.706Z"
   },
   {
    "duration": 12,
    "start_time": "2025-03-13T04:27:57.633Z"
   },
   {
    "duration": 4,
    "start_time": "2025-03-13T04:44:04.307Z"
   },
   {
    "duration": 161,
    "start_time": "2025-03-13T04:44:17.105Z"
   },
   {
    "duration": 107,
    "start_time": "2025-03-13T04:52:38.888Z"
   },
   {
    "duration": 10,
    "start_time": "2025-03-13T04:55:20.304Z"
   },
   {
    "duration": 12,
    "start_time": "2025-03-13T04:55:41.592Z"
   },
   {
    "duration": 138,
    "start_time": "2025-03-13T04:58:17.861Z"
   },
   {
    "duration": 88,
    "start_time": "2025-03-13T05:00:10.580Z"
   },
   {
    "duration": 15,
    "start_time": "2025-03-13T05:01:19.973Z"
   },
   {
    "duration": 134,
    "start_time": "2025-03-13T05:02:19.827Z"
   },
   {
    "duration": 141,
    "start_time": "2025-03-13T05:04:44.867Z"
   },
   {
    "duration": 104,
    "start_time": "2025-03-13T05:06:06.021Z"
   },
   {
    "duration": 118,
    "start_time": "2025-03-13T05:06:55.006Z"
   },
   {
    "duration": 8,
    "start_time": "2025-03-13T05:07:10.573Z"
   },
   {
    "duration": 7,
    "start_time": "2025-03-13T05:07:26.261Z"
   },
   {
    "duration": 10,
    "start_time": "2025-03-13T05:07:48.915Z"
   },
   {
    "duration": 8,
    "start_time": "2025-03-13T05:08:08.958Z"
   },
   {
    "duration": 21,
    "start_time": "2025-03-13T05:08:37.752Z"
   },
   {
    "duration": 11,
    "start_time": "2025-03-13T05:08:56.541Z"
   },
   {
    "duration": 152,
    "start_time": "2025-03-13T05:10:09.039Z"
   },
   {
    "duration": 4,
    "start_time": "2025-03-13T05:10:19.611Z"
   },
   {
    "duration": 140,
    "start_time": "2025-03-13T05:11:12.424Z"
   },
   {
    "duration": 138,
    "start_time": "2025-03-13T05:11:18.331Z"
   },
   {
    "duration": 1065,
    "start_time": "2025-03-13T05:11:52.835Z"
   },
   {
    "duration": 141,
    "start_time": "2025-03-13T05:12:05.875Z"
   },
   {
    "duration": 146,
    "start_time": "2025-03-13T05:12:20.526Z"
   },
   {
    "duration": 217,
    "start_time": "2025-03-13T05:13:53.912Z"
   },
   {
    "duration": 135,
    "start_time": "2025-03-13T05:14:04.896Z"
   },
   {
    "duration": 102,
    "start_time": "2025-03-13T05:14:31.889Z"
   },
   {
    "duration": 103,
    "start_time": "2025-03-13T05:14:51.501Z"
   },
   {
    "duration": 104,
    "start_time": "2025-03-13T05:15:18.273Z"
   },
   {
    "duration": 231,
    "start_time": "2025-03-13T05:18:30.117Z"
   },
   {
    "duration": 46,
    "start_time": "2025-03-13T05:19:52.285Z"
   },
   {
    "duration": 214,
    "start_time": "2025-03-13T05:20:12.089Z"
   },
   {
    "duration": 143,
    "start_time": "2025-03-13T05:20:23.807Z"
   },
   {
    "duration": 149,
    "start_time": "2025-03-13T05:21:19.725Z"
   },
   {
    "duration": 134,
    "start_time": "2025-03-13T05:21:45.465Z"
   },
   {
    "duration": 150,
    "start_time": "2025-03-13T05:22:00.196Z"
   },
   {
    "duration": 138,
    "start_time": "2025-03-13T05:22:33.090Z"
   },
   {
    "duration": 137,
    "start_time": "2025-03-13T05:22:55.267Z"
   },
   {
    "duration": 136,
    "start_time": "2025-03-13T05:23:28.943Z"
   },
   {
    "duration": 585,
    "start_time": "2025-03-13T05:24:06.725Z"
   },
   {
    "duration": 111,
    "start_time": "2025-03-13T05:24:34.402Z"
   },
   {
    "duration": 106,
    "start_time": "2025-03-13T05:24:43.674Z"
   },
   {
    "duration": 112,
    "start_time": "2025-03-13T05:25:06.883Z"
   },
   {
    "duration": 149,
    "start_time": "2025-03-13T05:25:48.745Z"
   },
   {
    "duration": 6,
    "start_time": "2025-03-13T05:29:40.937Z"
   },
   {
    "duration": 7,
    "start_time": "2025-03-13T05:29:45.564Z"
   },
   {
    "duration": 3,
    "start_time": "2025-03-13T07:00:57.076Z"
   },
   {
    "duration": 5,
    "start_time": "2025-03-13T07:01:02.926Z"
   },
   {
    "duration": 6,
    "start_time": "2025-03-13T07:01:15.728Z"
   },
   {
    "duration": 5,
    "start_time": "2025-03-13T07:02:18.832Z"
   },
   {
    "duration": 5,
    "start_time": "2025-03-13T07:02:29.226Z"
   },
   {
    "duration": 158,
    "start_time": "2025-03-13T07:37:46.859Z"
   },
   {
    "duration": 13,
    "start_time": "2025-03-13T07:38:17.794Z"
   },
   {
    "duration": 2555,
    "start_time": "2025-03-13T07:38:25.394Z"
   },
   {
    "duration": 14,
    "start_time": "2025-03-13T07:38:27.952Z"
   },
   {
    "duration": 10,
    "start_time": "2025-03-13T07:38:27.967Z"
   },
   {
    "duration": 8,
    "start_time": "2025-03-13T07:38:27.979Z"
   },
   {
    "duration": 3,
    "start_time": "2025-03-13T07:38:27.990Z"
   },
   {
    "duration": 30,
    "start_time": "2025-03-13T07:38:27.994Z"
   },
   {
    "duration": 8,
    "start_time": "2025-03-13T07:38:28.026Z"
   },
   {
    "duration": 10,
    "start_time": "2025-03-13T07:38:28.036Z"
   },
   {
    "duration": 4,
    "start_time": "2025-03-13T07:38:28.048Z"
   },
   {
    "duration": 3,
    "start_time": "2025-03-13T07:38:28.053Z"
   },
   {
    "duration": 10,
    "start_time": "2025-03-13T07:38:28.058Z"
   },
   {
    "duration": 8,
    "start_time": "2025-03-13T07:38:28.070Z"
   },
   {
    "duration": 7,
    "start_time": "2025-03-13T07:38:28.080Z"
   },
   {
    "duration": 8,
    "start_time": "2025-03-13T07:38:28.127Z"
   },
   {
    "duration": 4,
    "start_time": "2025-03-13T07:38:28.137Z"
   },
   {
    "duration": 8,
    "start_time": "2025-03-13T07:38:28.142Z"
   },
   {
    "duration": 6,
    "start_time": "2025-03-13T07:38:28.152Z"
   },
   {
    "duration": 9,
    "start_time": "2025-03-13T07:38:28.160Z"
   },
   {
    "duration": 8,
    "start_time": "2025-03-13T07:38:28.171Z"
   },
   {
    "duration": 48,
    "start_time": "2025-03-13T07:38:28.181Z"
   },
   {
    "duration": 11,
    "start_time": "2025-03-13T07:38:28.231Z"
   },
   {
    "duration": 8,
    "start_time": "2025-03-13T07:38:28.245Z"
   },
   {
    "duration": 9,
    "start_time": "2025-03-13T07:38:28.255Z"
   },
   {
    "duration": 164,
    "start_time": "2025-03-13T07:38:28.265Z"
   },
   {
    "duration": 94,
    "start_time": "2025-03-13T07:38:28.430Z"
   },
   {
    "duration": 14,
    "start_time": "2025-03-13T07:38:28.525Z"
   },
   {
    "duration": 200,
    "start_time": "2025-03-13T07:38:28.541Z"
   },
   {
    "duration": 247,
    "start_time": "2025-03-13T07:38:28.743Z"
   },
   {
    "duration": 0,
    "start_time": "2025-03-13T07:38:28.992Z"
   },
   {
    "duration": 0,
    "start_time": "2025-03-13T07:38:28.994Z"
   },
   {
    "duration": 0,
    "start_time": "2025-03-13T07:38:28.995Z"
   },
   {
    "duration": 0,
    "start_time": "2025-03-13T07:38:28.996Z"
   },
   {
    "duration": 0,
    "start_time": "2025-03-13T07:38:28.998Z"
   },
   {
    "duration": 0,
    "start_time": "2025-03-13T07:38:28.999Z"
   },
   {
    "duration": 0,
    "start_time": "2025-03-13T07:38:29.001Z"
   },
   {
    "duration": 0,
    "start_time": "2025-03-13T07:38:29.003Z"
   },
   {
    "duration": 0,
    "start_time": "2025-03-13T07:38:29.023Z"
   },
   {
    "duration": 0,
    "start_time": "2025-03-13T07:38:29.025Z"
   },
   {
    "duration": 0,
    "start_time": "2025-03-13T07:38:29.026Z"
   },
   {
    "duration": 0,
    "start_time": "2025-03-13T07:38:29.028Z"
   },
   {
    "duration": 0,
    "start_time": "2025-03-13T07:38:29.029Z"
   },
   {
    "duration": 0,
    "start_time": "2025-03-13T07:38:29.030Z"
   },
   {
    "duration": 0,
    "start_time": "2025-03-13T07:38:29.031Z"
   },
   {
    "duration": 150,
    "start_time": "2025-03-13T07:38:54.376Z"
   },
   {
    "duration": 132,
    "start_time": "2025-03-13T07:38:57.617Z"
   },
   {
    "duration": 119,
    "start_time": "2025-03-13T07:38:59.922Z"
   },
   {
    "duration": 5,
    "start_time": "2025-03-13T07:39:04.149Z"
   },
   {
    "duration": 111,
    "start_time": "2025-03-13T07:39:08.516Z"
   },
   {
    "duration": 4,
    "start_time": "2025-03-13T07:39:10.687Z"
   },
   {
    "duration": 4,
    "start_time": "2025-03-13T07:39:16.792Z"
   },
   {
    "duration": 108,
    "start_time": "2025-03-13T07:39:20.792Z"
   },
   {
    "duration": 6,
    "start_time": "2025-03-13T07:39:22.109Z"
   },
   {
    "duration": 6,
    "start_time": "2025-03-13T07:39:22.492Z"
   },
   {
    "duration": 5,
    "start_time": "2025-03-13T07:39:23.106Z"
   },
   {
    "duration": 16,
    "start_time": "2025-03-13T07:39:23.678Z"
   },
   {
    "duration": 9,
    "start_time": "2025-03-13T07:39:24.852Z"
   },
   {
    "duration": 8,
    "start_time": "2025-03-13T07:39:26.180Z"
   },
   {
    "duration": 21,
    "start_time": "2025-03-13T07:39:27.990Z"
   },
   {
    "duration": 12,
    "start_time": "2025-03-13T07:39:30.927Z"
   },
   {
    "duration": 15,
    "start_time": "2025-03-13T07:41:21.217Z"
   },
   {
    "duration": 16,
    "start_time": "2025-03-13T07:42:50.942Z"
   },
   {
    "duration": 136,
    "start_time": "2025-03-13T07:42:56.190Z"
   },
   {
    "duration": 15,
    "start_time": "2025-03-13T07:50:56.603Z"
   },
   {
    "duration": 7,
    "start_time": "2025-03-13T07:53:46.906Z"
   },
   {
    "duration": 20,
    "start_time": "2025-03-13T07:57:06.487Z"
   },
   {
    "duration": 8,
    "start_time": "2025-03-13T07:59:30.271Z"
   },
   {
    "duration": 921,
    "start_time": "2025-03-13T08:14:37.803Z"
   },
   {
    "duration": 12,
    "start_time": "2025-03-13T08:14:38.726Z"
   },
   {
    "duration": 8,
    "start_time": "2025-03-13T08:14:38.741Z"
   },
   {
    "duration": 8,
    "start_time": "2025-03-13T08:14:38.751Z"
   },
   {
    "duration": 2,
    "start_time": "2025-03-13T08:14:38.761Z"
   },
   {
    "duration": 6,
    "start_time": "2025-03-13T08:14:38.765Z"
   },
   {
    "duration": 8,
    "start_time": "2025-03-13T08:14:38.773Z"
   },
   {
    "duration": 11,
    "start_time": "2025-03-13T08:14:38.782Z"
   },
   {
    "duration": 5,
    "start_time": "2025-03-13T08:14:38.824Z"
   },
   {
    "duration": 4,
    "start_time": "2025-03-13T08:14:38.830Z"
   },
   {
    "duration": 10,
    "start_time": "2025-03-13T08:14:38.835Z"
   },
   {
    "duration": 8,
    "start_time": "2025-03-13T08:14:38.846Z"
   },
   {
    "duration": 8,
    "start_time": "2025-03-13T08:14:38.855Z"
   },
   {
    "duration": 7,
    "start_time": "2025-03-13T08:14:38.867Z"
   },
   {
    "duration": 3,
    "start_time": "2025-03-13T08:14:38.875Z"
   },
   {
    "duration": 48,
    "start_time": "2025-03-13T08:14:38.880Z"
   },
   {
    "duration": 5,
    "start_time": "2025-03-13T08:14:38.930Z"
   },
   {
    "duration": 8,
    "start_time": "2025-03-13T08:14:38.937Z"
   },
   {
    "duration": 9,
    "start_time": "2025-03-13T08:14:38.947Z"
   },
   {
    "duration": 10,
    "start_time": "2025-03-13T08:14:38.958Z"
   },
   {
    "duration": 11,
    "start_time": "2025-03-13T08:14:38.970Z"
   },
   {
    "duration": 8,
    "start_time": "2025-03-13T08:14:38.983Z"
   },
   {
    "duration": 10,
    "start_time": "2025-03-13T08:14:39.023Z"
   },
   {
    "duration": 146,
    "start_time": "2025-03-13T08:14:39.034Z"
   },
   {
    "duration": 96,
    "start_time": "2025-03-13T08:14:39.182Z"
   },
   {
    "duration": 13,
    "start_time": "2025-03-13T08:14:39.280Z"
   },
   {
    "duration": 163,
    "start_time": "2025-03-13T08:14:39.294Z"
   },
   {
    "duration": 142,
    "start_time": "2025-03-13T08:14:39.459Z"
   },
   {
    "duration": 148,
    "start_time": "2025-03-13T08:14:39.603Z"
   },
   {
    "duration": 124,
    "start_time": "2025-03-13T08:14:39.753Z"
   },
   {
    "duration": 116,
    "start_time": "2025-03-13T08:14:39.878Z"
   },
   {
    "duration": 4,
    "start_time": "2025-03-13T08:14:39.996Z"
   },
   {
    "duration": 129,
    "start_time": "2025-03-13T08:14:40.004Z"
   },
   {
    "duration": 4,
    "start_time": "2025-03-13T08:14:40.135Z"
   },
   {
    "duration": 127,
    "start_time": "2025-03-13T08:14:40.141Z"
   },
   {
    "duration": 6,
    "start_time": "2025-03-13T08:14:40.270Z"
   },
   {
    "duration": 6,
    "start_time": "2025-03-13T08:14:40.277Z"
   },
   {
    "duration": 6,
    "start_time": "2025-03-13T08:14:40.285Z"
   },
   {
    "duration": 35,
    "start_time": "2025-03-13T08:14:40.292Z"
   },
   {
    "duration": 7,
    "start_time": "2025-03-13T08:14:40.329Z"
   },
   {
    "duration": 7,
    "start_time": "2025-03-13T08:14:40.340Z"
   },
   {
    "duration": 19,
    "start_time": "2025-03-13T08:14:40.348Z"
   },
   {
    "duration": 7,
    "start_time": "2025-03-13T08:14:40.368Z"
   },
   {
    "duration": 927,
    "start_time": "2025-03-13T23:17:03.521Z"
   },
   {
    "duration": 23,
    "start_time": "2025-03-13T23:17:04.450Z"
   },
   {
    "duration": 9,
    "start_time": "2025-03-13T23:17:04.474Z"
   },
   {
    "duration": 8,
    "start_time": "2025-03-13T23:17:04.485Z"
   },
   {
    "duration": 2,
    "start_time": "2025-03-13T23:17:04.495Z"
   },
   {
    "duration": 7,
    "start_time": "2025-03-13T23:17:04.499Z"
   },
   {
    "duration": 8,
    "start_time": "2025-03-13T23:17:04.508Z"
   },
   {
    "duration": 10,
    "start_time": "2025-03-13T23:17:04.517Z"
   },
   {
    "duration": 4,
    "start_time": "2025-03-13T23:17:04.529Z"
   },
   {
    "duration": 3,
    "start_time": "2025-03-13T23:17:04.570Z"
   },
   {
    "duration": 10,
    "start_time": "2025-03-13T23:17:04.575Z"
   },
   {
    "duration": 8,
    "start_time": "2025-03-13T23:17:04.586Z"
   },
   {
    "duration": 8,
    "start_time": "2025-03-13T23:17:04.595Z"
   },
   {
    "duration": 7,
    "start_time": "2025-03-13T23:17:04.605Z"
   },
   {
    "duration": 3,
    "start_time": "2025-03-13T23:17:04.614Z"
   },
   {
    "duration": 9,
    "start_time": "2025-03-13T23:17:04.619Z"
   },
   {
    "duration": 45,
    "start_time": "2025-03-13T23:17:04.629Z"
   },
   {
    "duration": 9,
    "start_time": "2025-03-13T23:17:04.675Z"
   },
   {
    "duration": 8,
    "start_time": "2025-03-13T23:17:04.685Z"
   },
   {
    "duration": 11,
    "start_time": "2025-03-13T23:17:04.694Z"
   },
   {
    "duration": 11,
    "start_time": "2025-03-13T23:17:04.706Z"
   },
   {
    "duration": 8,
    "start_time": "2025-03-13T23:17:04.719Z"
   },
   {
    "duration": 47,
    "start_time": "2025-03-13T23:17:04.729Z"
   },
   {
    "duration": 148,
    "start_time": "2025-03-13T23:17:04.777Z"
   },
   {
    "duration": 93,
    "start_time": "2025-03-13T23:17:04.927Z"
   },
   {
    "duration": 15,
    "start_time": "2025-03-13T23:17:05.022Z"
   },
   {
    "duration": 160,
    "start_time": "2025-03-13T23:17:05.039Z"
   },
   {
    "duration": 170,
    "start_time": "2025-03-13T23:17:05.204Z"
   },
   {
    "duration": 152,
    "start_time": "2025-03-13T23:17:05.376Z"
   },
   {
    "duration": 146,
    "start_time": "2025-03-13T23:17:05.529Z"
   },
   {
    "duration": 120,
    "start_time": "2025-03-13T23:17:05.677Z"
   },
   {
    "duration": 5,
    "start_time": "2025-03-13T23:17:05.798Z"
   },
   {
    "duration": 126,
    "start_time": "2025-03-13T23:17:05.807Z"
   },
   {
    "duration": 4,
    "start_time": "2025-03-13T23:17:05.935Z"
   },
   {
    "duration": 134,
    "start_time": "2025-03-13T23:17:05.941Z"
   },
   {
    "duration": 5,
    "start_time": "2025-03-13T23:17:06.077Z"
   },
   {
    "duration": 7,
    "start_time": "2025-03-13T23:17:06.084Z"
   },
   {
    "duration": 6,
    "start_time": "2025-03-13T23:17:06.092Z"
   },
   {
    "duration": 16,
    "start_time": "2025-03-13T23:17:06.100Z"
   },
   {
    "duration": 6,
    "start_time": "2025-03-13T23:17:06.117Z"
   },
   {
    "duration": 7,
    "start_time": "2025-03-13T23:17:06.125Z"
   },
   {
    "duration": 20,
    "start_time": "2025-03-13T23:17:06.170Z"
   },
   {
    "duration": 8,
    "start_time": "2025-03-13T23:17:06.191Z"
   }
  ],
  "kernelspec": {
   "display_name": "Python 3 (ipykernel)",
   "language": "python",
   "name": "python3"
  },
  "language_info": {
   "codemirror_mode": {
    "name": "ipython",
    "version": 3
   },
   "file_extension": ".py",
   "mimetype": "text/x-python",
   "name": "python",
   "nbconvert_exporter": "python",
   "pygments_lexer": "ipython3",
   "version": "3.9.19"
  },
  "toc": {
   "base_numbering": 1,
   "nav_menu": {},
   "number_sections": true,
   "sideBar": true,
   "skip_h1_title": true,
   "title_cell": "Table of Contents",
   "title_sidebar": "Contents",
   "toc_cell": false,
   "toc_position": {},
   "toc_section_display": true,
   "toc_window_display": false
  }
 },
 "nbformat": 4,
 "nbformat_minor": 2
}
